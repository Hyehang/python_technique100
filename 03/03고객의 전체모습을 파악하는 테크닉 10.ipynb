{
 "cells": [
  {
   "cell_type": "code",
   "execution_count": 1,
   "id": "64ce6df2-42d9-419f-a7de-622ee1c3f329",
   "metadata": {},
   "outputs": [],
   "source": [
    "import pandas as pd"
   ]
  },
  {
   "cell_type": "code",
   "execution_count": 2,
   "id": "88f04a8d-6f38-49b9-b7f8-d482b922ee42",
   "metadata": {},
   "outputs": [],
   "source": [
    "use_log = pd.read_csv('use_log.csv')"
   ]
  },
  {
   "cell_type": "code",
   "execution_count": 3,
   "id": "8daff171-b313-48c9-a7a0-e282ab610be7",
   "metadata": {},
   "outputs": [],
   "source": [
    "customer_master = pd.read_csv('customer_master.csv')"
   ]
  },
  {
   "cell_type": "code",
   "execution_count": 4,
   "id": "351c06e7-9882-4fef-b79a-eb7dc5ae9655",
   "metadata": {},
   "outputs": [],
   "source": [
    "campaign_master = pd.read_csv('campaign_master.csv')"
   ]
  },
  {
   "cell_type": "code",
   "execution_count": 5,
   "id": "f4dfdc0c-1f84-4d18-9fa3-4666694442d1",
   "metadata": {},
   "outputs": [],
   "source": [
    "class_master = pd.read_csv('class_master.csv')"
   ]
  },
  {
   "cell_type": "code",
   "execution_count": 6,
   "id": "a16e965f-ecf9-4094-8690-474ba9f5e2f0",
   "metadata": {},
   "outputs": [
    {
     "data": {
      "text/html": [
       "<div>\n",
       "<style scoped>\n",
       "    .dataframe tbody tr th:only-of-type {\n",
       "        vertical-align: middle;\n",
       "    }\n",
       "\n",
       "    .dataframe tbody tr th {\n",
       "        vertical-align: top;\n",
       "    }\n",
       "\n",
       "    .dataframe thead th {\n",
       "        text-align: right;\n",
       "    }\n",
       "</style>\n",
       "<table border=\"1\" class=\"dataframe\">\n",
       "  <thead>\n",
       "    <tr style=\"text-align: right;\">\n",
       "      <th></th>\n",
       "      <th>log_id</th>\n",
       "      <th>customer_id</th>\n",
       "      <th>usedate</th>\n",
       "    </tr>\n",
       "  </thead>\n",
       "  <tbody>\n",
       "    <tr>\n",
       "      <th>0</th>\n",
       "      <td>L00000049012330</td>\n",
       "      <td>AS009373</td>\n",
       "      <td>2018-04-01</td>\n",
       "    </tr>\n",
       "    <tr>\n",
       "      <th>1</th>\n",
       "      <td>L00000049012331</td>\n",
       "      <td>AS015315</td>\n",
       "      <td>2018-04-01</td>\n",
       "    </tr>\n",
       "    <tr>\n",
       "      <th>2</th>\n",
       "      <td>L00000049012332</td>\n",
       "      <td>AS040841</td>\n",
       "      <td>2018-04-01</td>\n",
       "    </tr>\n",
       "    <tr>\n",
       "      <th>3</th>\n",
       "      <td>L00000049012333</td>\n",
       "      <td>AS046594</td>\n",
       "      <td>2018-04-01</td>\n",
       "    </tr>\n",
       "    <tr>\n",
       "      <th>4</th>\n",
       "      <td>L00000049012334</td>\n",
       "      <td>AS073285</td>\n",
       "      <td>2018-04-01</td>\n",
       "    </tr>\n",
       "  </tbody>\n",
       "</table>\n",
       "</div>"
      ],
      "text/plain": [
       "            log_id customer_id     usedate\n",
       "0  L00000049012330    AS009373  2018-04-01\n",
       "1  L00000049012331    AS015315  2018-04-01\n",
       "2  L00000049012332    AS040841  2018-04-01\n",
       "3  L00000049012333    AS046594  2018-04-01\n",
       "4  L00000049012334    AS073285  2018-04-01"
      ]
     },
     "execution_count": 6,
     "metadata": {},
     "output_type": "execute_result"
    }
   ],
   "source": [
    "use_log.head()"
   ]
  },
  {
   "cell_type": "code",
   "execution_count": 7,
   "id": "56ab1984-fe82-4dba-bd9c-c214e618ec74",
   "metadata": {},
   "outputs": [
    {
     "data": {
      "text/html": [
       "<div>\n",
       "<style scoped>\n",
       "    .dataframe tbody tr th:only-of-type {\n",
       "        vertical-align: middle;\n",
       "    }\n",
       "\n",
       "    .dataframe tbody tr th {\n",
       "        vertical-align: top;\n",
       "    }\n",
       "\n",
       "    .dataframe thead th {\n",
       "        text-align: right;\n",
       "    }\n",
       "</style>\n",
       "<table border=\"1\" class=\"dataframe\">\n",
       "  <thead>\n",
       "    <tr style=\"text-align: right;\">\n",
       "      <th></th>\n",
       "      <th>class</th>\n",
       "      <th>class_name</th>\n",
       "      <th>price</th>\n",
       "    </tr>\n",
       "  </thead>\n",
       "  <tbody>\n",
       "    <tr>\n",
       "      <th>0</th>\n",
       "      <td>C01</td>\n",
       "      <td>0_종일</td>\n",
       "      <td>10500</td>\n",
       "    </tr>\n",
       "    <tr>\n",
       "      <th>1</th>\n",
       "      <td>C02</td>\n",
       "      <td>1_주간</td>\n",
       "      <td>7500</td>\n",
       "    </tr>\n",
       "    <tr>\n",
       "      <th>2</th>\n",
       "      <td>C03</td>\n",
       "      <td>2_야간</td>\n",
       "      <td>6000</td>\n",
       "    </tr>\n",
       "  </tbody>\n",
       "</table>\n",
       "</div>"
      ],
      "text/plain": [
       "  class class_name  price\n",
       "0   C01       0_종일  10500\n",
       "1   C02       1_주간   7500\n",
       "2   C03       2_야간   6000"
      ]
     },
     "execution_count": 7,
     "metadata": {},
     "output_type": "execute_result"
    }
   ],
   "source": [
    "class_master.head()"
   ]
  },
  {
   "cell_type": "code",
   "execution_count": 8,
   "id": "f41e2e07-3e34-44fa-837b-16cf2d97cb54",
   "metadata": {},
   "outputs": [
    {
     "data": {
      "text/html": [
       "<div>\n",
       "<style scoped>\n",
       "    .dataframe tbody tr th:only-of-type {\n",
       "        vertical-align: middle;\n",
       "    }\n",
       "\n",
       "    .dataframe tbody tr th {\n",
       "        vertical-align: top;\n",
       "    }\n",
       "\n",
       "    .dataframe thead th {\n",
       "        text-align: right;\n",
       "    }\n",
       "</style>\n",
       "<table border=\"1\" class=\"dataframe\">\n",
       "  <thead>\n",
       "    <tr style=\"text-align: right;\">\n",
       "      <th></th>\n",
       "      <th>campaign_id</th>\n",
       "      <th>campaign_name</th>\n",
       "    </tr>\n",
       "  </thead>\n",
       "  <tbody>\n",
       "    <tr>\n",
       "      <th>0</th>\n",
       "      <td>CA1</td>\n",
       "      <td>2_일반</td>\n",
       "    </tr>\n",
       "    <tr>\n",
       "      <th>1</th>\n",
       "      <td>CA2</td>\n",
       "      <td>0_입회비반액할인</td>\n",
       "    </tr>\n",
       "    <tr>\n",
       "      <th>2</th>\n",
       "      <td>CA3</td>\n",
       "      <td>1_입회비무료</td>\n",
       "    </tr>\n",
       "  </tbody>\n",
       "</table>\n",
       "</div>"
      ],
      "text/plain": [
       "  campaign_id campaign_name\n",
       "0         CA1          2_일반\n",
       "1         CA2     0_입회비반액할인\n",
       "2         CA3       1_입회비무료"
      ]
     },
     "execution_count": 8,
     "metadata": {},
     "output_type": "execute_result"
    }
   ],
   "source": [
    "campaign_master.head()"
   ]
  },
  {
   "cell_type": "code",
   "execution_count": 9,
   "id": "ecee69d2-8b11-46ae-ac14-77e9dd54e419",
   "metadata": {},
   "outputs": [
    {
     "data": {
      "text/html": [
       "<div>\n",
       "<style scoped>\n",
       "    .dataframe tbody tr th:only-of-type {\n",
       "        vertical-align: middle;\n",
       "    }\n",
       "\n",
       "    .dataframe tbody tr th {\n",
       "        vertical-align: top;\n",
       "    }\n",
       "\n",
       "    .dataframe thead th {\n",
       "        text-align: right;\n",
       "    }\n",
       "</style>\n",
       "<table border=\"1\" class=\"dataframe\">\n",
       "  <thead>\n",
       "    <tr style=\"text-align: right;\">\n",
       "      <th></th>\n",
       "      <th>customer_id</th>\n",
       "      <th>name</th>\n",
       "      <th>class</th>\n",
       "      <th>gender</th>\n",
       "      <th>start_date</th>\n",
       "      <th>end_date</th>\n",
       "      <th>campaign_id</th>\n",
       "      <th>is_deleted</th>\n",
       "    </tr>\n",
       "  </thead>\n",
       "  <tbody>\n",
       "    <tr>\n",
       "      <th>0</th>\n",
       "      <td>OA832399</td>\n",
       "      <td>XXXX</td>\n",
       "      <td>C01</td>\n",
       "      <td>F</td>\n",
       "      <td>2015-05-01 00:00:00</td>\n",
       "      <td>NaN</td>\n",
       "      <td>CA1</td>\n",
       "      <td>0</td>\n",
       "    </tr>\n",
       "    <tr>\n",
       "      <th>1</th>\n",
       "      <td>PL270116</td>\n",
       "      <td>XXXXX</td>\n",
       "      <td>C01</td>\n",
       "      <td>M</td>\n",
       "      <td>2015-05-01 00:00:00</td>\n",
       "      <td>NaN</td>\n",
       "      <td>CA1</td>\n",
       "      <td>0</td>\n",
       "    </tr>\n",
       "    <tr>\n",
       "      <th>2</th>\n",
       "      <td>OA974876</td>\n",
       "      <td>XXXXX</td>\n",
       "      <td>C01</td>\n",
       "      <td>M</td>\n",
       "      <td>2015-05-01 00:00:00</td>\n",
       "      <td>NaN</td>\n",
       "      <td>CA1</td>\n",
       "      <td>0</td>\n",
       "    </tr>\n",
       "    <tr>\n",
       "      <th>3</th>\n",
       "      <td>HD024127</td>\n",
       "      <td>XXXXX</td>\n",
       "      <td>C01</td>\n",
       "      <td>F</td>\n",
       "      <td>2015-05-01 00:00:00</td>\n",
       "      <td>NaN</td>\n",
       "      <td>CA1</td>\n",
       "      <td>0</td>\n",
       "    </tr>\n",
       "    <tr>\n",
       "      <th>4</th>\n",
       "      <td>HD661448</td>\n",
       "      <td>XXXXX</td>\n",
       "      <td>C03</td>\n",
       "      <td>F</td>\n",
       "      <td>2015-05-01 00:00:00</td>\n",
       "      <td>NaN</td>\n",
       "      <td>CA1</td>\n",
       "      <td>0</td>\n",
       "    </tr>\n",
       "  </tbody>\n",
       "</table>\n",
       "</div>"
      ],
      "text/plain": [
       "  customer_id   name class gender           start_date end_date campaign_id  \\\n",
       "0    OA832399   XXXX   C01      F  2015-05-01 00:00:00      NaN         CA1   \n",
       "1    PL270116  XXXXX   C01      M  2015-05-01 00:00:00      NaN         CA1   \n",
       "2    OA974876  XXXXX   C01      M  2015-05-01 00:00:00      NaN         CA1   \n",
       "3    HD024127  XXXXX   C01      F  2015-05-01 00:00:00      NaN         CA1   \n",
       "4    HD661448  XXXXX   C03      F  2015-05-01 00:00:00      NaN         CA1   \n",
       "\n",
       "   is_deleted  \n",
       "0           0  \n",
       "1           0  \n",
       "2           0  \n",
       "3           0  \n",
       "4           0  "
      ]
     },
     "execution_count": 9,
     "metadata": {},
     "output_type": "execute_result"
    }
   ],
   "source": [
    "customer_master.head()"
   ]
  },
  {
   "cell_type": "markdown",
   "id": "dca0e4e7-7350-4fcf-beac-831f07faad6a",
   "metadata": {},
   "source": [
    "### 고객 데이터 가공하기"
   ]
  },
  {
   "cell_type": "code",
   "execution_count": 10,
   "id": "4487f75c-20ed-478d-a074-948239b17432",
   "metadata": {},
   "outputs": [],
   "source": [
    "customer_join = pd.merge(customer_master,campaign_master,how = 'left', on = 'campaign_id')"
   ]
  },
  {
   "cell_type": "code",
   "execution_count": 11,
   "id": "00c995f5-12f8-49fd-8866-7cd6b18faa24",
   "metadata": {},
   "outputs": [],
   "source": [
    "customer_join = pd.merge(customer_join, class_master, how = 'left',on= 'class')"
   ]
  },
  {
   "cell_type": "code",
   "execution_count": 12,
   "id": "b448bf2f-cb20-422f-b3a2-8de8e833efbb",
   "metadata": {},
   "outputs": [
    {
     "data": {
      "text/html": [
       "<div>\n",
       "<style scoped>\n",
       "    .dataframe tbody tr th:only-of-type {\n",
       "        vertical-align: middle;\n",
       "    }\n",
       "\n",
       "    .dataframe tbody tr th {\n",
       "        vertical-align: top;\n",
       "    }\n",
       "\n",
       "    .dataframe thead th {\n",
       "        text-align: right;\n",
       "    }\n",
       "</style>\n",
       "<table border=\"1\" class=\"dataframe\">\n",
       "  <thead>\n",
       "    <tr style=\"text-align: right;\">\n",
       "      <th></th>\n",
       "      <th>customer_id</th>\n",
       "      <th>name</th>\n",
       "      <th>class</th>\n",
       "      <th>gender</th>\n",
       "      <th>start_date</th>\n",
       "      <th>end_date</th>\n",
       "      <th>campaign_id</th>\n",
       "      <th>is_deleted</th>\n",
       "      <th>campaign_name</th>\n",
       "      <th>class_name</th>\n",
       "      <th>price</th>\n",
       "    </tr>\n",
       "  </thead>\n",
       "  <tbody>\n",
       "    <tr>\n",
       "      <th>0</th>\n",
       "      <td>OA832399</td>\n",
       "      <td>XXXX</td>\n",
       "      <td>C01</td>\n",
       "      <td>F</td>\n",
       "      <td>2015-05-01 00:00:00</td>\n",
       "      <td>NaN</td>\n",
       "      <td>CA1</td>\n",
       "      <td>0</td>\n",
       "      <td>2_일반</td>\n",
       "      <td>0_종일</td>\n",
       "      <td>10500</td>\n",
       "    </tr>\n",
       "    <tr>\n",
       "      <th>1</th>\n",
       "      <td>PL270116</td>\n",
       "      <td>XXXXX</td>\n",
       "      <td>C01</td>\n",
       "      <td>M</td>\n",
       "      <td>2015-05-01 00:00:00</td>\n",
       "      <td>NaN</td>\n",
       "      <td>CA1</td>\n",
       "      <td>0</td>\n",
       "      <td>2_일반</td>\n",
       "      <td>0_종일</td>\n",
       "      <td>10500</td>\n",
       "    </tr>\n",
       "    <tr>\n",
       "      <th>2</th>\n",
       "      <td>OA974876</td>\n",
       "      <td>XXXXX</td>\n",
       "      <td>C01</td>\n",
       "      <td>M</td>\n",
       "      <td>2015-05-01 00:00:00</td>\n",
       "      <td>NaN</td>\n",
       "      <td>CA1</td>\n",
       "      <td>0</td>\n",
       "      <td>2_일반</td>\n",
       "      <td>0_종일</td>\n",
       "      <td>10500</td>\n",
       "    </tr>\n",
       "    <tr>\n",
       "      <th>3</th>\n",
       "      <td>HD024127</td>\n",
       "      <td>XXXXX</td>\n",
       "      <td>C01</td>\n",
       "      <td>F</td>\n",
       "      <td>2015-05-01 00:00:00</td>\n",
       "      <td>NaN</td>\n",
       "      <td>CA1</td>\n",
       "      <td>0</td>\n",
       "      <td>2_일반</td>\n",
       "      <td>0_종일</td>\n",
       "      <td>10500</td>\n",
       "    </tr>\n",
       "    <tr>\n",
       "      <th>4</th>\n",
       "      <td>HD661448</td>\n",
       "      <td>XXXXX</td>\n",
       "      <td>C03</td>\n",
       "      <td>F</td>\n",
       "      <td>2015-05-01 00:00:00</td>\n",
       "      <td>NaN</td>\n",
       "      <td>CA1</td>\n",
       "      <td>0</td>\n",
       "      <td>2_일반</td>\n",
       "      <td>2_야간</td>\n",
       "      <td>6000</td>\n",
       "    </tr>\n",
       "  </tbody>\n",
       "</table>\n",
       "</div>"
      ],
      "text/plain": [
       "  customer_id   name class gender           start_date end_date campaign_id  \\\n",
       "0    OA832399   XXXX   C01      F  2015-05-01 00:00:00      NaN         CA1   \n",
       "1    PL270116  XXXXX   C01      M  2015-05-01 00:00:00      NaN         CA1   \n",
       "2    OA974876  XXXXX   C01      M  2015-05-01 00:00:00      NaN         CA1   \n",
       "3    HD024127  XXXXX   C01      F  2015-05-01 00:00:00      NaN         CA1   \n",
       "4    HD661448  XXXXX   C03      F  2015-05-01 00:00:00      NaN         CA1   \n",
       "\n",
       "   is_deleted campaign_name class_name  price  \n",
       "0           0          2_일반       0_종일  10500  \n",
       "1           0          2_일반       0_종일  10500  \n",
       "2           0          2_일반       0_종일  10500  \n",
       "3           0          2_일반       0_종일  10500  \n",
       "4           0          2_일반       2_야간   6000  "
      ]
     },
     "execution_count": 12,
     "metadata": {},
     "output_type": "execute_result"
    }
   ],
   "source": [
    "customer_join.head()"
   ]
  },
  {
   "cell_type": "code",
   "execution_count": 13,
   "id": "fa7bb5b7-2e50-4c06-a0ff-e8d7912d6894",
   "metadata": {},
   "outputs": [
    {
     "data": {
      "text/plain": [
       "customer_id         0\n",
       "name                0\n",
       "class               0\n",
       "gender              0\n",
       "start_date          0\n",
       "end_date         2842\n",
       "campaign_id         0\n",
       "is_deleted          0\n",
       "campaign_name       0\n",
       "class_name          0\n",
       "price               0\n",
       "dtype: int64"
      ]
     },
     "execution_count": 13,
     "metadata": {},
     "output_type": "execute_result"
    }
   ],
   "source": [
    "customer_join.isna().sum()"
   ]
  },
  {
   "cell_type": "code",
   "execution_count": 14,
   "id": "d27d7465-652c-4a6b-b359-19a0053490a7",
   "metadata": {},
   "outputs": [
    {
     "data": {
      "text/html": [
       "<div>\n",
       "<style scoped>\n",
       "    .dataframe tbody tr th:only-of-type {\n",
       "        vertical-align: middle;\n",
       "    }\n",
       "\n",
       "    .dataframe tbody tr th {\n",
       "        vertical-align: top;\n",
       "    }\n",
       "\n",
       "    .dataframe thead th {\n",
       "        text-align: right;\n",
       "    }\n",
       "</style>\n",
       "<table border=\"1\" class=\"dataframe\">\n",
       "  <thead>\n",
       "    <tr style=\"text-align: right;\">\n",
       "      <th></th>\n",
       "      <th>n</th>\n",
       "    </tr>\n",
       "    <tr>\n",
       "      <th>class_name</th>\n",
       "      <th></th>\n",
       "    </tr>\n",
       "  </thead>\n",
       "  <tbody>\n",
       "    <tr>\n",
       "      <th>0_종일</th>\n",
       "      <td>2045</td>\n",
       "    </tr>\n",
       "    <tr>\n",
       "      <th>1_주간</th>\n",
       "      <td>1019</td>\n",
       "    </tr>\n",
       "    <tr>\n",
       "      <th>2_야간</th>\n",
       "      <td>1128</td>\n",
       "    </tr>\n",
       "  </tbody>\n",
       "</table>\n",
       "</div>"
      ],
      "text/plain": [
       "               n\n",
       "class_name      \n",
       "0_종일        2045\n",
       "1_주간        1019\n",
       "2_야간        1128"
      ]
     },
     "execution_count": 14,
     "metadata": {},
     "output_type": "execute_result"
    }
   ],
   "source": [
    "customer_join.groupby('class_name') \\\n",
    "            .agg(n = ('customer_id','count'))"
   ]
  },
  {
   "cell_type": "code",
   "execution_count": 15,
   "id": "f1abc783-b2f0-4989-b9fa-8191e0aa53a0",
   "metadata": {},
   "outputs": [
    {
     "data": {
      "text/html": [
       "<div>\n",
       "<style scoped>\n",
       "    .dataframe tbody tr th:only-of-type {\n",
       "        vertical-align: middle;\n",
       "    }\n",
       "\n",
       "    .dataframe tbody tr th {\n",
       "        vertical-align: top;\n",
       "    }\n",
       "\n",
       "    .dataframe thead th {\n",
       "        text-align: right;\n",
       "    }\n",
       "</style>\n",
       "<table border=\"1\" class=\"dataframe\">\n",
       "  <thead>\n",
       "    <tr style=\"text-align: right;\">\n",
       "      <th></th>\n",
       "      <th>n</th>\n",
       "    </tr>\n",
       "    <tr>\n",
       "      <th>gender</th>\n",
       "      <th></th>\n",
       "    </tr>\n",
       "  </thead>\n",
       "  <tbody>\n",
       "    <tr>\n",
       "      <th>F</th>\n",
       "      <td>1983</td>\n",
       "    </tr>\n",
       "    <tr>\n",
       "      <th>M</th>\n",
       "      <td>2209</td>\n",
       "    </tr>\n",
       "  </tbody>\n",
       "</table>\n",
       "</div>"
      ],
      "text/plain": [
       "           n\n",
       "gender      \n",
       "F       1983\n",
       "M       2209"
      ]
     },
     "execution_count": 15,
     "metadata": {},
     "output_type": "execute_result"
    }
   ],
   "source": [
    "customer_join.groupby('gender') \\\n",
    "            .agg( n = ('customer_id','count'))"
   ]
  },
  {
   "cell_type": "code",
   "execution_count": 16,
   "id": "549501f4-fc4e-43f3-b1b6-7d37321a4917",
   "metadata": {},
   "outputs": [
    {
     "data": {
      "text/html": [
       "<div>\n",
       "<style scoped>\n",
       "    .dataframe tbody tr th:only-of-type {\n",
       "        vertical-align: middle;\n",
       "    }\n",
       "\n",
       "    .dataframe tbody tr th {\n",
       "        vertical-align: top;\n",
       "    }\n",
       "\n",
       "    .dataframe thead th {\n",
       "        text-align: right;\n",
       "    }\n",
       "</style>\n",
       "<table border=\"1\" class=\"dataframe\">\n",
       "  <thead>\n",
       "    <tr style=\"text-align: right;\">\n",
       "      <th></th>\n",
       "      <th>n</th>\n",
       "    </tr>\n",
       "    <tr>\n",
       "      <th>campaign_name</th>\n",
       "      <th></th>\n",
       "    </tr>\n",
       "  </thead>\n",
       "  <tbody>\n",
       "    <tr>\n",
       "      <th>0_입회비반액할인</th>\n",
       "      <td>650</td>\n",
       "    </tr>\n",
       "    <tr>\n",
       "      <th>1_입회비무료</th>\n",
       "      <td>492</td>\n",
       "    </tr>\n",
       "    <tr>\n",
       "      <th>2_일반</th>\n",
       "      <td>3050</td>\n",
       "    </tr>\n",
       "  </tbody>\n",
       "</table>\n",
       "</div>"
      ],
      "text/plain": [
       "                  n\n",
       "campaign_name      \n",
       "0_입회비반액할인       650\n",
       "1_입회비무료         492\n",
       "2_일반           3050"
      ]
     },
     "execution_count": 16,
     "metadata": {},
     "output_type": "execute_result"
    }
   ],
   "source": [
    "customer_join.groupby('campaign_name') \\\n",
    "            .agg(n = ('customer_id','count'))"
   ]
  },
  {
   "cell_type": "code",
   "execution_count": 17,
   "id": "0aaa563f-2c78-4030-a004-828cd6c64eb6",
   "metadata": {},
   "outputs": [
    {
     "data": {
      "text/html": [
       "<div>\n",
       "<style scoped>\n",
       "    .dataframe tbody tr th:only-of-type {\n",
       "        vertical-align: middle;\n",
       "    }\n",
       "\n",
       "    .dataframe tbody tr th {\n",
       "        vertical-align: top;\n",
       "    }\n",
       "\n",
       "    .dataframe thead th {\n",
       "        text-align: right;\n",
       "    }\n",
       "</style>\n",
       "<table border=\"1\" class=\"dataframe\">\n",
       "  <thead>\n",
       "    <tr style=\"text-align: right;\">\n",
       "      <th></th>\n",
       "      <th>n</th>\n",
       "    </tr>\n",
       "    <tr>\n",
       "      <th>is_deleted</th>\n",
       "      <th></th>\n",
       "    </tr>\n",
       "  </thead>\n",
       "  <tbody>\n",
       "    <tr>\n",
       "      <th>0</th>\n",
       "      <td>2842</td>\n",
       "    </tr>\n",
       "    <tr>\n",
       "      <th>1</th>\n",
       "      <td>1350</td>\n",
       "    </tr>\n",
       "  </tbody>\n",
       "</table>\n",
       "</div>"
      ],
      "text/plain": [
       "               n\n",
       "is_deleted      \n",
       "0           2842\n",
       "1           1350"
      ]
     },
     "execution_count": 17,
     "metadata": {},
     "output_type": "execute_result"
    }
   ],
   "source": [
    "customer_join.groupby('is_deleted') \\\n",
    "            .agg(n = ('customer_id','count'))"
   ]
  },
  {
   "cell_type": "code",
   "execution_count": 18,
   "id": "c6c618d7-49eb-4ad1-88c7-919474ae047e",
   "metadata": {},
   "outputs": [],
   "source": [
    "customer_join['start_date'] = pd.to_datetime(customer_join['start_date'])"
   ]
  },
  {
   "cell_type": "code",
   "execution_count": 19,
   "id": "0211cccd-cdb5-4831-bbd9-3f111254f8f5",
   "metadata": {},
   "outputs": [],
   "source": [
    "customer_start = customer_join.loc[customer_join['start_date']>pd.to_datetime(\"20180401\")]"
   ]
  },
  {
   "cell_type": "code",
   "execution_count": 20,
   "id": "2b397303-9eb9-44d0-9fb7-2f4ec8770b4e",
   "metadata": {},
   "outputs": [
    {
     "data": {
      "text/plain": [
       "1361"
      ]
     },
     "execution_count": 20,
     "metadata": {},
     "output_type": "execute_result"
    }
   ],
   "source": [
    "len(customer_start)"
   ]
  },
  {
   "cell_type": "markdown",
   "id": "39d60893-ffd0-4f5d-982b-622daebb59bc",
   "metadata": {},
   "source": [
    "### 최신 고객 데이터를 집계하자"
   ]
  },
  {
   "cell_type": "code",
   "execution_count": 21,
   "id": "e8b95675-ecea-4fed-bbc2-36b285632868",
   "metadata": {},
   "outputs": [],
   "source": [
    "customer_join['end_date'] = pd.to_datetime(customer_join['end_date'])"
   ]
  },
  {
   "cell_type": "code",
   "execution_count": 22,
   "id": "f5e7e9a0-f14b-4a7d-9236-1c89891b4add",
   "metadata": {},
   "outputs": [],
   "source": [
    "customer_newer = customer_join.loc[(customer_join['end_date']>=pd.to_datetime(\"20190331\")) | (customer_join['end_date'].isna())]"
   ]
  },
  {
   "cell_type": "code",
   "execution_count": 23,
   "id": "a1c7ea36-04c4-4cd6-a1d5-6244f70e5e37",
   "metadata": {},
   "outputs": [
    {
     "data": {
      "text/plain": [
       "2953"
      ]
     },
     "execution_count": 23,
     "metadata": {},
     "output_type": "execute_result"
    }
   ],
   "source": [
    "len(customer_newer)"
   ]
  },
  {
   "cell_type": "code",
   "execution_count": 24,
   "id": "cabc1764-95ae-4131-ba34-70cf90161442",
   "metadata": {},
   "outputs": [
    {
     "data": {
      "text/plain": [
       "array([                          'NaT', '2019-03-31T00:00:00.000000000'],\n",
       "      dtype='datetime64[ns]')"
      ]
     },
     "execution_count": 24,
     "metadata": {},
     "output_type": "execute_result"
    }
   ],
   "source": [
    "customer_newer['end_date'].unique()"
   ]
  },
  {
   "cell_type": "code",
   "execution_count": 25,
   "id": "7f9419d5-6ce5-462a-9eae-1858fe9e387a",
   "metadata": {},
   "outputs": [
    {
     "data": {
      "text/html": [
       "<div>\n",
       "<style scoped>\n",
       "    .dataframe tbody tr th:only-of-type {\n",
       "        vertical-align: middle;\n",
       "    }\n",
       "\n",
       "    .dataframe tbody tr th {\n",
       "        vertical-align: top;\n",
       "    }\n",
       "\n",
       "    .dataframe thead th {\n",
       "        text-align: right;\n",
       "    }\n",
       "</style>\n",
       "<table border=\"1\" class=\"dataframe\">\n",
       "  <thead>\n",
       "    <tr style=\"text-align: right;\">\n",
       "      <th></th>\n",
       "      <th>n</th>\n",
       "    </tr>\n",
       "    <tr>\n",
       "      <th>class_name</th>\n",
       "      <th></th>\n",
       "    </tr>\n",
       "  </thead>\n",
       "  <tbody>\n",
       "    <tr>\n",
       "      <th>0_종일</th>\n",
       "      <td>1444</td>\n",
       "    </tr>\n",
       "    <tr>\n",
       "      <th>1_주간</th>\n",
       "      <td>696</td>\n",
       "    </tr>\n",
       "    <tr>\n",
       "      <th>2_야간</th>\n",
       "      <td>813</td>\n",
       "    </tr>\n",
       "  </tbody>\n",
       "</table>\n",
       "</div>"
      ],
      "text/plain": [
       "               n\n",
       "class_name      \n",
       "0_종일        1444\n",
       "1_주간         696\n",
       "2_야간         813"
      ]
     },
     "execution_count": 25,
     "metadata": {},
     "output_type": "execute_result"
    }
   ],
   "source": [
    "customer_newer.groupby('class_name') \\\n",
    "            .agg(n= ('customer_id','count'))"
   ]
  },
  {
   "cell_type": "code",
   "execution_count": 26,
   "id": "7edef0a8-9538-4970-8344-8cc3394e0800",
   "metadata": {},
   "outputs": [
    {
     "data": {
      "text/html": [
       "<div>\n",
       "<style scoped>\n",
       "    .dataframe tbody tr th:only-of-type {\n",
       "        vertical-align: middle;\n",
       "    }\n",
       "\n",
       "    .dataframe tbody tr th {\n",
       "        vertical-align: top;\n",
       "    }\n",
       "\n",
       "    .dataframe thead th {\n",
       "        text-align: right;\n",
       "    }\n",
       "</style>\n",
       "<table border=\"1\" class=\"dataframe\">\n",
       "  <thead>\n",
       "    <tr style=\"text-align: right;\">\n",
       "      <th></th>\n",
       "      <th>n</th>\n",
       "    </tr>\n",
       "    <tr>\n",
       "      <th>campaign_name</th>\n",
       "      <th></th>\n",
       "    </tr>\n",
       "  </thead>\n",
       "  <tbody>\n",
       "    <tr>\n",
       "      <th>0_입회비반액할인</th>\n",
       "      <td>311</td>\n",
       "    </tr>\n",
       "    <tr>\n",
       "      <th>1_입회비무료</th>\n",
       "      <td>242</td>\n",
       "    </tr>\n",
       "    <tr>\n",
       "      <th>2_일반</th>\n",
       "      <td>2400</td>\n",
       "    </tr>\n",
       "  </tbody>\n",
       "</table>\n",
       "</div>"
      ],
      "text/plain": [
       "                  n\n",
       "campaign_name      \n",
       "0_입회비반액할인       311\n",
       "1_입회비무료         242\n",
       "2_일반           2400"
      ]
     },
     "execution_count": 26,
     "metadata": {},
     "output_type": "execute_result"
    }
   ],
   "source": [
    "customer_newer.groupby('campaign_name') \\\n",
    "            .agg(n= ('customer_id','count'))"
   ]
  },
  {
   "cell_type": "code",
   "execution_count": 27,
   "id": "a5a493fc-c4f7-4bfd-ae85-b289bd55e52e",
   "metadata": {},
   "outputs": [
    {
     "data": {
      "text/html": [
       "<div>\n",
       "<style scoped>\n",
       "    .dataframe tbody tr th:only-of-type {\n",
       "        vertical-align: middle;\n",
       "    }\n",
       "\n",
       "    .dataframe tbody tr th {\n",
       "        vertical-align: top;\n",
       "    }\n",
       "\n",
       "    .dataframe thead th {\n",
       "        text-align: right;\n",
       "    }\n",
       "</style>\n",
       "<table border=\"1\" class=\"dataframe\">\n",
       "  <thead>\n",
       "    <tr style=\"text-align: right;\">\n",
       "      <th></th>\n",
       "      <th>n</th>\n",
       "    </tr>\n",
       "    <tr>\n",
       "      <th>gender</th>\n",
       "      <th></th>\n",
       "    </tr>\n",
       "  </thead>\n",
       "  <tbody>\n",
       "    <tr>\n",
       "      <th>F</th>\n",
       "      <td>1400</td>\n",
       "    </tr>\n",
       "    <tr>\n",
       "      <th>M</th>\n",
       "      <td>1553</td>\n",
       "    </tr>\n",
       "  </tbody>\n",
       "</table>\n",
       "</div>"
      ],
      "text/plain": [
       "           n\n",
       "gender      \n",
       "F       1400\n",
       "M       1553"
      ]
     },
     "execution_count": 27,
     "metadata": {},
     "output_type": "execute_result"
    }
   ],
   "source": [
    "customer_newer.groupby('gender') \\\n",
    "            .agg(n=('customer_id','count'))"
   ]
  },
  {
   "cell_type": "markdown",
   "id": "e257937c-b3c2-4265-b07b-258d70289b5c",
   "metadata": {},
   "source": [
    "### 이용 이력 데이터를 집계하자"
   ]
  },
  {
   "cell_type": "code",
   "execution_count": 28,
   "id": "30da0e76-4b19-4238-93c3-0ffe5b6b3006",
   "metadata": {},
   "outputs": [
    {
     "data": {
      "text/html": [
       "<div>\n",
       "<style scoped>\n",
       "    .dataframe tbody tr th:only-of-type {\n",
       "        vertical-align: middle;\n",
       "    }\n",
       "\n",
       "    .dataframe tbody tr th {\n",
       "        vertical-align: top;\n",
       "    }\n",
       "\n",
       "    .dataframe thead th {\n",
       "        text-align: right;\n",
       "    }\n",
       "</style>\n",
       "<table border=\"1\" class=\"dataframe\">\n",
       "  <thead>\n",
       "    <tr style=\"text-align: right;\">\n",
       "      <th></th>\n",
       "      <th>log_id</th>\n",
       "      <th>customer_id</th>\n",
       "      <th>usedate</th>\n",
       "    </tr>\n",
       "  </thead>\n",
       "  <tbody>\n",
       "    <tr>\n",
       "      <th>0</th>\n",
       "      <td>L00000049012330</td>\n",
       "      <td>AS009373</td>\n",
       "      <td>2018-04-01</td>\n",
       "    </tr>\n",
       "    <tr>\n",
       "      <th>1</th>\n",
       "      <td>L00000049012331</td>\n",
       "      <td>AS015315</td>\n",
       "      <td>2018-04-01</td>\n",
       "    </tr>\n",
       "    <tr>\n",
       "      <th>2</th>\n",
       "      <td>L00000049012332</td>\n",
       "      <td>AS040841</td>\n",
       "      <td>2018-04-01</td>\n",
       "    </tr>\n",
       "    <tr>\n",
       "      <th>3</th>\n",
       "      <td>L00000049012333</td>\n",
       "      <td>AS046594</td>\n",
       "      <td>2018-04-01</td>\n",
       "    </tr>\n",
       "    <tr>\n",
       "      <th>4</th>\n",
       "      <td>L00000049012334</td>\n",
       "      <td>AS073285</td>\n",
       "      <td>2018-04-01</td>\n",
       "    </tr>\n",
       "  </tbody>\n",
       "</table>\n",
       "</div>"
      ],
      "text/plain": [
       "            log_id customer_id     usedate\n",
       "0  L00000049012330    AS009373  2018-04-01\n",
       "1  L00000049012331    AS015315  2018-04-01\n",
       "2  L00000049012332    AS040841  2018-04-01\n",
       "3  L00000049012333    AS046594  2018-04-01\n",
       "4  L00000049012334    AS073285  2018-04-01"
      ]
     },
     "execution_count": 28,
     "metadata": {},
     "output_type": "execute_result"
    }
   ],
   "source": [
    "use_log.head()"
   ]
  },
  {
   "cell_type": "code",
   "execution_count": 29,
   "id": "be902954-688d-4c1d-ac13-2dd02c4d8f71",
   "metadata": {},
   "outputs": [],
   "source": [
    "use_log['usedate'] = pd.to_datetime(use_log['usedate'])"
   ]
  },
  {
   "cell_type": "code",
   "execution_count": 30,
   "id": "59e30b81-37d5-43ab-b938-36b6a0a4e5ae",
   "metadata": {},
   "outputs": [],
   "source": [
    "use_log['연월'] = use_log['usedate'].dt.strftime('%Y%m')"
   ]
  },
  {
   "cell_type": "code",
   "execution_count": 31,
   "id": "d617b598-49fa-4df9-ada6-79fdf93576f2",
   "metadata": {},
   "outputs": [],
   "source": [
    "use_log_months = use_log.groupby(['연월','customer_id'],as_index = False) \\\n",
    "                        .agg(count = ('customer_id','count'))"
   ]
  },
  {
   "cell_type": "code",
   "execution_count": 32,
   "id": "d720e404-2dbf-40b7-afd0-2a2234840a0c",
   "metadata": {},
   "outputs": [],
   "source": [
    "uselog_customer = use_log_months.groupby('customer_id') \\\n",
    "                                .agg(['mean','median','max','min'])['count']"
   ]
  },
  {
   "cell_type": "code",
   "execution_count": 33,
   "id": "553b2c72-9e2e-463a-9139-a1fd7a57f15d",
   "metadata": {},
   "outputs": [
    {
     "data": {
      "text/html": [
       "<div>\n",
       "<style scoped>\n",
       "    .dataframe tbody tr th:only-of-type {\n",
       "        vertical-align: middle;\n",
       "    }\n",
       "\n",
       "    .dataframe tbody tr th {\n",
       "        vertical-align: top;\n",
       "    }\n",
       "\n",
       "    .dataframe thead th {\n",
       "        text-align: right;\n",
       "    }\n",
       "</style>\n",
       "<table border=\"1\" class=\"dataframe\">\n",
       "  <thead>\n",
       "    <tr style=\"text-align: right;\">\n",
       "      <th></th>\n",
       "      <th>mean</th>\n",
       "      <th>median</th>\n",
       "      <th>max</th>\n",
       "      <th>min</th>\n",
       "    </tr>\n",
       "    <tr>\n",
       "      <th>customer_id</th>\n",
       "      <th></th>\n",
       "      <th></th>\n",
       "      <th></th>\n",
       "      <th></th>\n",
       "    </tr>\n",
       "  </thead>\n",
       "  <tbody>\n",
       "    <tr>\n",
       "      <th>AS002855</th>\n",
       "      <td>4.500000</td>\n",
       "      <td>5.0</td>\n",
       "      <td>7</td>\n",
       "      <td>2</td>\n",
       "    </tr>\n",
       "    <tr>\n",
       "      <th>AS008805</th>\n",
       "      <td>4.000000</td>\n",
       "      <td>4.0</td>\n",
       "      <td>8</td>\n",
       "      <td>1</td>\n",
       "    </tr>\n",
       "    <tr>\n",
       "      <th>AS009013</th>\n",
       "      <td>2.000000</td>\n",
       "      <td>2.0</td>\n",
       "      <td>2</td>\n",
       "      <td>2</td>\n",
       "    </tr>\n",
       "    <tr>\n",
       "      <th>AS009373</th>\n",
       "      <td>5.083333</td>\n",
       "      <td>5.0</td>\n",
       "      <td>7</td>\n",
       "      <td>3</td>\n",
       "    </tr>\n",
       "    <tr>\n",
       "      <th>AS015233</th>\n",
       "      <td>7.545455</td>\n",
       "      <td>7.0</td>\n",
       "      <td>11</td>\n",
       "      <td>4</td>\n",
       "    </tr>\n",
       "    <tr>\n",
       "      <th>...</th>\n",
       "      <td>...</td>\n",
       "      <td>...</td>\n",
       "      <td>...</td>\n",
       "      <td>...</td>\n",
       "    </tr>\n",
       "    <tr>\n",
       "      <th>TS995853</th>\n",
       "      <td>9.500000</td>\n",
       "      <td>9.5</td>\n",
       "      <td>11</td>\n",
       "      <td>8</td>\n",
       "    </tr>\n",
       "    <tr>\n",
       "      <th>TS998593</th>\n",
       "      <td>8.142857</td>\n",
       "      <td>8.0</td>\n",
       "      <td>9</td>\n",
       "      <td>7</td>\n",
       "    </tr>\n",
       "    <tr>\n",
       "      <th>TS999079</th>\n",
       "      <td>4.916667</td>\n",
       "      <td>5.5</td>\n",
       "      <td>9</td>\n",
       "      <td>2</td>\n",
       "    </tr>\n",
       "    <tr>\n",
       "      <th>TS999231</th>\n",
       "      <td>4.666667</td>\n",
       "      <td>5.0</td>\n",
       "      <td>8</td>\n",
       "      <td>1</td>\n",
       "    </tr>\n",
       "    <tr>\n",
       "      <th>TS999855</th>\n",
       "      <td>4.583333</td>\n",
       "      <td>4.0</td>\n",
       "      <td>7</td>\n",
       "      <td>3</td>\n",
       "    </tr>\n",
       "  </tbody>\n",
       "</table>\n",
       "<p>4192 rows × 4 columns</p>\n",
       "</div>"
      ],
      "text/plain": [
       "                 mean  median  max  min\n",
       "customer_id                            \n",
       "AS002855     4.500000     5.0    7    2\n",
       "AS008805     4.000000     4.0    8    1\n",
       "AS009013     2.000000     2.0    2    2\n",
       "AS009373     5.083333     5.0    7    3\n",
       "AS015233     7.545455     7.0   11    4\n",
       "...               ...     ...  ...  ...\n",
       "TS995853     9.500000     9.5   11    8\n",
       "TS998593     8.142857     8.0    9    7\n",
       "TS999079     4.916667     5.5    9    2\n",
       "TS999231     4.666667     5.0    8    1\n",
       "TS999855     4.583333     4.0    7    3\n",
       "\n",
       "[4192 rows x 4 columns]"
      ]
     },
     "execution_count": 33,
     "metadata": {},
     "output_type": "execute_result"
    }
   ],
   "source": [
    "uselog_customer"
   ]
  },
  {
   "cell_type": "markdown",
   "id": "8e579246-b362-4496-a43a-059ef710716b",
   "metadata": {},
   "source": [
    "### 이용 이력 데이터로부터 정기 이용 플래그를 작성하자"
   ]
  },
  {
   "cell_type": "code",
   "execution_count": 34,
   "id": "ee7752bc-1ea1-4ba9-a75f-79a4f60deefe",
   "metadata": {},
   "outputs": [],
   "source": [
    "use_log['weekday'] = use_log['usedate'].dt.weekday"
   ]
  },
  {
   "cell_type": "code",
   "execution_count": 35,
   "id": "fc939185-1593-4fb6-a328-a24446e7eef9",
   "metadata": {},
   "outputs": [],
   "source": [
    "uselog_weekday = use_log.groupby(['customer_id','연월','weekday'],as_index = False) \\\n",
    "                        .count().drop(columns = 'usedate')"
   ]
  },
  {
   "cell_type": "code",
   "execution_count": 36,
   "id": "86bb6b7b-7e7f-476f-8409-cdbc67486cdb",
   "metadata": {},
   "outputs": [],
   "source": [
    "uselog_weekday = uselog_weekday.rename(columns = {'log_id' : 'count'})"
   ]
  },
  {
   "cell_type": "code",
   "execution_count": 37,
   "id": "d8782461-0e6a-497e-8ea8-c5a3e863f6e1",
   "metadata": {},
   "outputs": [
    {
     "data": {
      "text/html": [
       "<div>\n",
       "<style scoped>\n",
       "    .dataframe tbody tr th:only-of-type {\n",
       "        vertical-align: middle;\n",
       "    }\n",
       "\n",
       "    .dataframe tbody tr th {\n",
       "        vertical-align: top;\n",
       "    }\n",
       "\n",
       "    .dataframe thead th {\n",
       "        text-align: right;\n",
       "    }\n",
       "</style>\n",
       "<table border=\"1\" class=\"dataframe\">\n",
       "  <thead>\n",
       "    <tr style=\"text-align: right;\">\n",
       "      <th></th>\n",
       "      <th>customer_id</th>\n",
       "      <th>count</th>\n",
       "    </tr>\n",
       "  </thead>\n",
       "  <tbody>\n",
       "    <tr>\n",
       "      <th>0</th>\n",
       "      <td>AS002855</td>\n",
       "      <td>5</td>\n",
       "    </tr>\n",
       "    <tr>\n",
       "      <th>1</th>\n",
       "      <td>AS008805</td>\n",
       "      <td>4</td>\n",
       "    </tr>\n",
       "    <tr>\n",
       "      <th>2</th>\n",
       "      <td>AS009013</td>\n",
       "      <td>2</td>\n",
       "    </tr>\n",
       "    <tr>\n",
       "      <th>3</th>\n",
       "      <td>AS009373</td>\n",
       "      <td>5</td>\n",
       "    </tr>\n",
       "    <tr>\n",
       "      <th>4</th>\n",
       "      <td>AS015233</td>\n",
       "      <td>5</td>\n",
       "    </tr>\n",
       "    <tr>\n",
       "      <th>...</th>\n",
       "      <td>...</td>\n",
       "      <td>...</td>\n",
       "    </tr>\n",
       "    <tr>\n",
       "      <th>4187</th>\n",
       "      <td>TS995853</td>\n",
       "      <td>5</td>\n",
       "    </tr>\n",
       "    <tr>\n",
       "      <th>4188</th>\n",
       "      <td>TS998593</td>\n",
       "      <td>5</td>\n",
       "    </tr>\n",
       "    <tr>\n",
       "      <th>4189</th>\n",
       "      <td>TS999079</td>\n",
       "      <td>5</td>\n",
       "    </tr>\n",
       "    <tr>\n",
       "      <th>4190</th>\n",
       "      <td>TS999231</td>\n",
       "      <td>5</td>\n",
       "    </tr>\n",
       "    <tr>\n",
       "      <th>4191</th>\n",
       "      <td>TS999855</td>\n",
       "      <td>5</td>\n",
       "    </tr>\n",
       "  </tbody>\n",
       "</table>\n",
       "<p>4192 rows × 2 columns</p>\n",
       "</div>"
      ],
      "text/plain": [
       "     customer_id  count\n",
       "0       AS002855      5\n",
       "1       AS008805      4\n",
       "2       AS009013      2\n",
       "3       AS009373      5\n",
       "4       AS015233      5\n",
       "...          ...    ...\n",
       "4187    TS995853      5\n",
       "4188    TS998593      5\n",
       "4189    TS999079      5\n",
       "4190    TS999231      5\n",
       "4191    TS999855      5\n",
       "\n",
       "[4192 rows x 2 columns]"
      ]
     },
     "execution_count": 37,
     "metadata": {},
     "output_type": "execute_result"
    }
   ],
   "source": [
    "uselog_weekday.groupby('customer_id',as_index = False).max()[['customer_id','count']]"
   ]
  },
  {
   "cell_type": "code",
   "execution_count": 38,
   "id": "2faad40f-e7a2-4411-869d-facd06532c47",
   "metadata": {},
   "outputs": [],
   "source": [
    "uselog_weekday['routine_flg'] = 0"
   ]
  },
  {
   "cell_type": "code",
   "execution_count": 39,
   "id": "d380787a-685c-429a-89c8-e5de98e64665",
   "metadata": {},
   "outputs": [],
   "source": [
    "uselog_weekday['routine_flg'] = uselog_weekday['routine_flg'].where(uselog_weekday['count'] < 4 , 1)"
   ]
  },
  {
   "cell_type": "code",
   "execution_count": 40,
   "id": "e849b999-0cd3-411a-ac3e-4b31496f52a9",
   "metadata": {},
   "outputs": [
    {
     "data": {
      "text/html": [
       "<div>\n",
       "<style scoped>\n",
       "    .dataframe tbody tr th:only-of-type {\n",
       "        vertical-align: middle;\n",
       "    }\n",
       "\n",
       "    .dataframe tbody tr th {\n",
       "        vertical-align: top;\n",
       "    }\n",
       "\n",
       "    .dataframe thead th {\n",
       "        text-align: right;\n",
       "    }\n",
       "</style>\n",
       "<table border=\"1\" class=\"dataframe\">\n",
       "  <thead>\n",
       "    <tr style=\"text-align: right;\">\n",
       "      <th></th>\n",
       "      <th>customer_id</th>\n",
       "      <th>연월</th>\n",
       "      <th>weekday</th>\n",
       "      <th>count</th>\n",
       "      <th>routine_flg</th>\n",
       "    </tr>\n",
       "  </thead>\n",
       "  <tbody>\n",
       "    <tr>\n",
       "      <th>0</th>\n",
       "      <td>AS002855</td>\n",
       "      <td>201804</td>\n",
       "      <td>5</td>\n",
       "      <td>4</td>\n",
       "      <td>1</td>\n",
       "    </tr>\n",
       "    <tr>\n",
       "      <th>1</th>\n",
       "      <td>AS002855</td>\n",
       "      <td>201805</td>\n",
       "      <td>2</td>\n",
       "      <td>1</td>\n",
       "      <td>0</td>\n",
       "    </tr>\n",
       "    <tr>\n",
       "      <th>2</th>\n",
       "      <td>AS002855</td>\n",
       "      <td>201805</td>\n",
       "      <td>5</td>\n",
       "      <td>4</td>\n",
       "      <td>1</td>\n",
       "    </tr>\n",
       "    <tr>\n",
       "      <th>3</th>\n",
       "      <td>AS002855</td>\n",
       "      <td>201806</td>\n",
       "      <td>5</td>\n",
       "      <td>5</td>\n",
       "      <td>1</td>\n",
       "    </tr>\n",
       "    <tr>\n",
       "      <th>4</th>\n",
       "      <td>AS002855</td>\n",
       "      <td>201807</td>\n",
       "      <td>1</td>\n",
       "      <td>1</td>\n",
       "      <td>0</td>\n",
       "    </tr>\n",
       "  </tbody>\n",
       "</table>\n",
       "</div>"
      ],
      "text/plain": [
       "  customer_id      연월  weekday  count  routine_flg\n",
       "0    AS002855  201804        5      4            1\n",
       "1    AS002855  201805        2      1            0\n",
       "2    AS002855  201805        5      4            1\n",
       "3    AS002855  201806        5      5            1\n",
       "4    AS002855  201807        1      1            0"
      ]
     },
     "execution_count": 40,
     "metadata": {},
     "output_type": "execute_result"
    }
   ],
   "source": [
    "uselog_weekday.head()"
   ]
  },
  {
   "cell_type": "markdown",
   "id": "5984d46b-72ad-4e51-b28d-d2ed6a22d1dc",
   "metadata": {},
   "source": [
    "### 고객 데이터와 이용 이력 데이터를 결합하자"
   ]
  },
  {
   "cell_type": "code",
   "execution_count": 41,
   "id": "a7d11ec1-cf56-4017-93a9-7ed87cd427fe",
   "metadata": {},
   "outputs": [],
   "source": [
    "customer_join = pd.merge(customer_join , uselog_customer, how = 'left',on = 'customer_id')"
   ]
  },
  {
   "cell_type": "code",
   "execution_count": 42,
   "id": "3d8d7140-f38c-4a19-a3e3-3b99bb4c5b2b",
   "metadata": {},
   "outputs": [],
   "source": [
    "customer_join = pd.merge(customer_join,uselog_weekday[['customer_id','routine_flg']], how = 'left', on = 'customer_id')"
   ]
  },
  {
   "cell_type": "code",
   "execution_count": 43,
   "id": "5b6ffe96-f93f-47f7-9012-d0a700774aad",
   "metadata": {},
   "outputs": [
    {
     "data": {
      "text/html": [
       "<div>\n",
       "<style scoped>\n",
       "    .dataframe tbody tr th:only-of-type {\n",
       "        vertical-align: middle;\n",
       "    }\n",
       "\n",
       "    .dataframe tbody tr th {\n",
       "        vertical-align: top;\n",
       "    }\n",
       "\n",
       "    .dataframe thead th {\n",
       "        text-align: right;\n",
       "    }\n",
       "</style>\n",
       "<table border=\"1\" class=\"dataframe\">\n",
       "  <thead>\n",
       "    <tr style=\"text-align: right;\">\n",
       "      <th></th>\n",
       "      <th>customer_id</th>\n",
       "      <th>name</th>\n",
       "      <th>class</th>\n",
       "      <th>gender</th>\n",
       "      <th>start_date</th>\n",
       "      <th>end_date</th>\n",
       "      <th>campaign_id</th>\n",
       "      <th>is_deleted</th>\n",
       "      <th>campaign_name</th>\n",
       "      <th>class_name</th>\n",
       "      <th>price</th>\n",
       "      <th>mean</th>\n",
       "      <th>median</th>\n",
       "      <th>max</th>\n",
       "      <th>min</th>\n",
       "      <th>routine_flg</th>\n",
       "    </tr>\n",
       "  </thead>\n",
       "  <tbody>\n",
       "    <tr>\n",
       "      <th>0</th>\n",
       "      <td>OA832399</td>\n",
       "      <td>XXXX</td>\n",
       "      <td>C01</td>\n",
       "      <td>F</td>\n",
       "      <td>2015-05-01</td>\n",
       "      <td>NaT</td>\n",
       "      <td>CA1</td>\n",
       "      <td>0</td>\n",
       "      <td>2_일반</td>\n",
       "      <td>0_종일</td>\n",
       "      <td>10500</td>\n",
       "      <td>4.833333</td>\n",
       "      <td>5.0</td>\n",
       "      <td>8</td>\n",
       "      <td>2</td>\n",
       "      <td>0</td>\n",
       "    </tr>\n",
       "    <tr>\n",
       "      <th>1</th>\n",
       "      <td>OA832399</td>\n",
       "      <td>XXXX</td>\n",
       "      <td>C01</td>\n",
       "      <td>F</td>\n",
       "      <td>2015-05-01</td>\n",
       "      <td>NaT</td>\n",
       "      <td>CA1</td>\n",
       "      <td>0</td>\n",
       "      <td>2_일반</td>\n",
       "      <td>0_종일</td>\n",
       "      <td>10500</td>\n",
       "      <td>4.833333</td>\n",
       "      <td>5.0</td>\n",
       "      <td>8</td>\n",
       "      <td>2</td>\n",
       "      <td>0</td>\n",
       "    </tr>\n",
       "    <tr>\n",
       "      <th>2</th>\n",
       "      <td>OA832399</td>\n",
       "      <td>XXXX</td>\n",
       "      <td>C01</td>\n",
       "      <td>F</td>\n",
       "      <td>2015-05-01</td>\n",
       "      <td>NaT</td>\n",
       "      <td>CA1</td>\n",
       "      <td>0</td>\n",
       "      <td>2_일반</td>\n",
       "      <td>0_종일</td>\n",
       "      <td>10500</td>\n",
       "      <td>4.833333</td>\n",
       "      <td>5.0</td>\n",
       "      <td>8</td>\n",
       "      <td>2</td>\n",
       "      <td>1</td>\n",
       "    </tr>\n",
       "    <tr>\n",
       "      <th>3</th>\n",
       "      <td>OA832399</td>\n",
       "      <td>XXXX</td>\n",
       "      <td>C01</td>\n",
       "      <td>F</td>\n",
       "      <td>2015-05-01</td>\n",
       "      <td>NaT</td>\n",
       "      <td>CA1</td>\n",
       "      <td>0</td>\n",
       "      <td>2_일반</td>\n",
       "      <td>0_종일</td>\n",
       "      <td>10500</td>\n",
       "      <td>4.833333</td>\n",
       "      <td>5.0</td>\n",
       "      <td>8</td>\n",
       "      <td>2</td>\n",
       "      <td>1</td>\n",
       "    </tr>\n",
       "    <tr>\n",
       "      <th>4</th>\n",
       "      <td>OA832399</td>\n",
       "      <td>XXXX</td>\n",
       "      <td>C01</td>\n",
       "      <td>F</td>\n",
       "      <td>2015-05-01</td>\n",
       "      <td>NaT</td>\n",
       "      <td>CA1</td>\n",
       "      <td>0</td>\n",
       "      <td>2_일반</td>\n",
       "      <td>0_종일</td>\n",
       "      <td>10500</td>\n",
       "      <td>4.833333</td>\n",
       "      <td>5.0</td>\n",
       "      <td>8</td>\n",
       "      <td>2</td>\n",
       "      <td>0</td>\n",
       "    </tr>\n",
       "  </tbody>\n",
       "</table>\n",
       "</div>"
      ],
      "text/plain": [
       "  customer_id  name class gender start_date end_date campaign_id  is_deleted  \\\n",
       "0    OA832399  XXXX   C01      F 2015-05-01      NaT         CA1           0   \n",
       "1    OA832399  XXXX   C01      F 2015-05-01      NaT         CA1           0   \n",
       "2    OA832399  XXXX   C01      F 2015-05-01      NaT         CA1           0   \n",
       "3    OA832399  XXXX   C01      F 2015-05-01      NaT         CA1           0   \n",
       "4    OA832399  XXXX   C01      F 2015-05-01      NaT         CA1           0   \n",
       "\n",
       "  campaign_name class_name  price      mean  median  max  min  routine_flg  \n",
       "0          2_일반       0_종일  10500  4.833333     5.0    8    2            0  \n",
       "1          2_일반       0_종일  10500  4.833333     5.0    8    2            0  \n",
       "2          2_일반       0_종일  10500  4.833333     5.0    8    2            1  \n",
       "3          2_일반       0_종일  10500  4.833333     5.0    8    2            1  \n",
       "4          2_일반       0_종일  10500  4.833333     5.0    8    2            0  "
      ]
     },
     "execution_count": 43,
     "metadata": {},
     "output_type": "execute_result"
    }
   ],
   "source": [
    "customer_join.head()"
   ]
  },
  {
   "cell_type": "code",
   "execution_count": 44,
   "id": "1195bc67-08d5-44ef-ad59-1a0c95d49b7c",
   "metadata": {},
   "outputs": [
    {
     "data": {
      "text/plain": [
       "customer_id          0\n",
       "name                 0\n",
       "class                0\n",
       "gender               0\n",
       "start_date           0\n",
       "end_date         73671\n",
       "campaign_id          0\n",
       "is_deleted           0\n",
       "campaign_name        0\n",
       "class_name           0\n",
       "price                0\n",
       "mean                 0\n",
       "median               0\n",
       "max                  0\n",
       "min                  0\n",
       "routine_flg          0\n",
       "dtype: int64"
      ]
     },
     "execution_count": 44,
     "metadata": {},
     "output_type": "execute_result"
    }
   ],
   "source": [
    "customer_join.isna().sum()"
   ]
  },
  {
   "cell_type": "markdown",
   "id": "a3237f3b-248e-4269-89a6-1875999e4e7c",
   "metadata": {},
   "source": [
    "### 회원 기간을 계산하자"
   ]
  },
  {
   "cell_type": "code",
   "execution_count": 45,
   "id": "3a95dad8-e4a9-4a50-ab5d-6d640a231b52",
   "metadata": {},
   "outputs": [],
   "source": [
    "from dateutil.relativedelta import relativedelta"
   ]
  },
  {
   "cell_type": "code",
   "execution_count": 46,
   "id": "2c833187-303a-405c-af27-94bf16d51f1b",
   "metadata": {},
   "outputs": [],
   "source": [
    "customer_join['calc_date'] = customer_join['end_date']"
   ]
  },
  {
   "cell_type": "code",
   "execution_count": 47,
   "id": "44667a6f-7ecf-4ab4-8018-b6204f81040d",
   "metadata": {},
   "outputs": [],
   "source": [
    "customer_join['calc_date'] = customer_join['calc_date'].fillna(pd.to_datetime('20190430'))"
   ]
  },
  {
   "cell_type": "code",
   "execution_count": 48,
   "id": "abbc04a2-285b-43f6-9594-2fd4f33fad8e",
   "metadata": {},
   "outputs": [],
   "source": [
    "customer_join['membership_period'] = 0"
   ]
  },
  {
   "cell_type": "code",
   "execution_count": null,
   "id": "c5ba7b00-4521-44b1-ba0a-affe6d96d052",
   "metadata": {},
   "outputs": [],
   "source": [
    " for i in range(len(customer_join)) :\n",
    "        delta = relativedelta(customer_join['calc_date'].iloc[i],customer_join['start_date'].iloc[i])\n",
    "        customer_join['membership_period'].iloc[i].copy() = delta.years*12 + delta.months\n",
    "    \n",
    "customer_join.head()"
   ]
  },
  {
   "cell_type": "code",
   "execution_count": 50,
   "id": "1a3c417b-18f4-4d36-bfd2-5134d6192ab2",
   "metadata": {},
   "outputs": [
    {
     "data": {
      "text/html": [
       "<div>\n",
       "<style scoped>\n",
       "    .dataframe tbody tr th:only-of-type {\n",
       "        vertical-align: middle;\n",
       "    }\n",
       "\n",
       "    .dataframe tbody tr th {\n",
       "        vertical-align: top;\n",
       "    }\n",
       "\n",
       "    .dataframe thead th {\n",
       "        text-align: right;\n",
       "    }\n",
       "</style>\n",
       "<table border=\"1\" class=\"dataframe\">\n",
       "  <thead>\n",
       "    <tr style=\"text-align: right;\">\n",
       "      <th></th>\n",
       "      <th>mean</th>\n",
       "      <th>median</th>\n",
       "      <th>max</th>\n",
       "      <th>min</th>\n",
       "    </tr>\n",
       "  </thead>\n",
       "  <tbody>\n",
       "    <tr>\n",
       "      <th>count</th>\n",
       "      <td>93333.000000</td>\n",
       "      <td>93333.000000</td>\n",
       "      <td>93333.000000</td>\n",
       "      <td>93333.000000</td>\n",
       "    </tr>\n",
       "    <tr>\n",
       "      <th>mean</th>\n",
       "      <td>5.632080</td>\n",
       "      <td>5.573731</td>\n",
       "      <td>8.348183</td>\n",
       "      <td>3.080936</td>\n",
       "    </tr>\n",
       "    <tr>\n",
       "      <th>std</th>\n",
       "      <td>1.488784</td>\n",
       "      <td>1.592073</td>\n",
       "      <td>1.692409</td>\n",
       "      <td>1.739029</td>\n",
       "    </tr>\n",
       "    <tr>\n",
       "      <th>min</th>\n",
       "      <td>1.000000</td>\n",
       "      <td>1.000000</td>\n",
       "      <td>1.000000</td>\n",
       "      <td>1.000000</td>\n",
       "    </tr>\n",
       "    <tr>\n",
       "      <th>25%</th>\n",
       "      <td>4.583333</td>\n",
       "      <td>4.500000</td>\n",
       "      <td>7.000000</td>\n",
       "      <td>2.000000</td>\n",
       "    </tr>\n",
       "    <tr>\n",
       "      <th>50%</th>\n",
       "      <td>5.333333</td>\n",
       "      <td>5.000000</td>\n",
       "      <td>8.000000</td>\n",
       "      <td>3.000000</td>\n",
       "    </tr>\n",
       "    <tr>\n",
       "      <th>75%</th>\n",
       "      <td>6.666667</td>\n",
       "      <td>6.500000</td>\n",
       "      <td>10.000000</td>\n",
       "      <td>4.000000</td>\n",
       "    </tr>\n",
       "    <tr>\n",
       "      <th>max</th>\n",
       "      <td>12.000000</td>\n",
       "      <td>12.000000</td>\n",
       "      <td>14.000000</td>\n",
       "      <td>12.000000</td>\n",
       "    </tr>\n",
       "  </tbody>\n",
       "</table>\n",
       "</div>"
      ],
      "text/plain": [
       "               mean        median           max           min\n",
       "count  93333.000000  93333.000000  93333.000000  93333.000000\n",
       "mean       5.632080      5.573731      8.348183      3.080936\n",
       "std        1.488784      1.592073      1.692409      1.739029\n",
       "min        1.000000      1.000000      1.000000      1.000000\n",
       "25%        4.583333      4.500000      7.000000      2.000000\n",
       "50%        5.333333      5.000000      8.000000      3.000000\n",
       "75%        6.666667      6.500000     10.000000      4.000000\n",
       "max       12.000000     12.000000     14.000000     12.000000"
      ]
     },
     "execution_count": 50,
     "metadata": {},
     "output_type": "execute_result"
    }
   ],
   "source": [
    "customer_join[['mean','median','max','min']].describe()"
   ]
  },
  {
   "cell_type": "code",
   "execution_count": 53,
   "id": "04b19fc4-19fa-4737-a160-e1c46ba2200d",
   "metadata": {},
   "outputs": [
    {
     "data": {
      "text/plain": [
       "routine_flg\n",
       "0    70469\n",
       "1    22864\n",
       "Name: customer_id, dtype: int64"
      ]
     },
     "execution_count": 53,
     "metadata": {},
     "output_type": "execute_result"
    }
   ],
   "source": [
    "customer_join.groupby('routine_flg').count()['customer_id']"
   ]
  },
  {
   "cell_type": "code",
   "execution_count": 54,
   "id": "eef95ab0-1a1c-4757-89a5-033a36a3f6eb",
   "metadata": {},
   "outputs": [],
   "source": [
    "import matplotlib.pyplot as plt"
   ]
  },
  {
   "cell_type": "code",
   "execution_count": null,
   "id": "6533fffa-5fcd-4698-9313-dd7d2612b106",
   "metadata": {},
   "outputs": [],
   "source": [
    "plt.hist(data = customer_join)"
   ]
  },
  {
   "cell_type": "code",
   "execution_count": null,
   "id": "28668145-6edd-43cd-be0c-1cf9541905c5",
   "metadata": {},
   "outputs": [],
   "source": []
  }
 ],
 "metadata": {
  "kernelspec": {
   "display_name": "Python 3 (ipykernel)",
   "language": "python",
   "name": "python3"
  },
  "language_info": {
   "codemirror_mode": {
    "name": "ipython",
    "version": 3
   },
   "file_extension": ".py",
   "mimetype": "text/x-python",
   "name": "python",
   "nbconvert_exporter": "python",
   "pygments_lexer": "ipython3",
   "version": "3.9.12"
  }
 },
 "nbformat": 4,
 "nbformat_minor": 5
}
