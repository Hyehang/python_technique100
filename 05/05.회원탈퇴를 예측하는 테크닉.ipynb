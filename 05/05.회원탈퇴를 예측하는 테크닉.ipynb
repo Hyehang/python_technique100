{
 "cells": [
  {
   "cell_type": "code",
   "execution_count": 1,
   "id": "e9781248-7076-4daf-bf76-766a47d13b18",
   "metadata": {},
   "outputs": [],
   "source": [
    "import pandas as pd\n",
    "pd.set_option('mode.chained_assignment',  None)"
   ]
  },
  {
   "cell_type": "code",
   "execution_count": 2,
   "id": "b2a19225-988c-4c2c-bd97-6075f5e23d8d",
   "metadata": {},
   "outputs": [],
   "source": [
    "customer = pd.read_csv('customer_join.csv')"
   ]
  },
  {
   "cell_type": "code",
   "execution_count": 3,
   "id": "145a9c0e-0623-4d5e-bc98-3fe370ac79cc",
   "metadata": {},
   "outputs": [],
   "source": [
    "uselog_months = pd.read_csv('use_log_months.csv')"
   ]
  },
  {
   "cell_type": "code",
   "execution_count": 4,
   "id": "9623638d-56f2-4207-8bd1-dfa237b2b93c",
   "metadata": {},
   "outputs": [],
   "source": [
    "year_months = list(uselog_months['연월'].unique())"
   ]
  },
  {
   "cell_type": "code",
   "execution_count": 5,
   "id": "7f63ee4e-5852-4e82-a884-f3ce5bf35cd1",
   "metadata": {},
   "outputs": [],
   "source": [
    "uselog = pd.DataFrame()"
   ]
  },
  {
   "cell_type": "code",
   "execution_count": 6,
   "id": "1e4a8dbe-22f2-46fd-a595-35c83b0783c3",
   "metadata": {},
   "outputs": [
    {
     "data": {
      "text/html": [
       "<div>\n",
       "<style scoped>\n",
       "    .dataframe tbody tr th:only-of-type {\n",
       "        vertical-align: middle;\n",
       "    }\n",
       "\n",
       "    .dataframe tbody tr th {\n",
       "        vertical-align: top;\n",
       "    }\n",
       "\n",
       "    .dataframe thead th {\n",
       "        text-align: right;\n",
       "    }\n",
       "</style>\n",
       "<table border=\"1\" class=\"dataframe\">\n",
       "  <thead>\n",
       "    <tr style=\"text-align: right;\">\n",
       "      <th></th>\n",
       "      <th>연월</th>\n",
       "      <th>customer_id</th>\n",
       "      <th>count</th>\n",
       "    </tr>\n",
       "  </thead>\n",
       "  <tbody>\n",
       "    <tr>\n",
       "      <th>0</th>\n",
       "      <td>201804</td>\n",
       "      <td>AS002855</td>\n",
       "      <td>4</td>\n",
       "    </tr>\n",
       "    <tr>\n",
       "      <th>1</th>\n",
       "      <td>201804</td>\n",
       "      <td>AS009013</td>\n",
       "      <td>2</td>\n",
       "    </tr>\n",
       "    <tr>\n",
       "      <th>2</th>\n",
       "      <td>201804</td>\n",
       "      <td>AS009373</td>\n",
       "      <td>3</td>\n",
       "    </tr>\n",
       "    <tr>\n",
       "      <th>3</th>\n",
       "      <td>201804</td>\n",
       "      <td>AS015315</td>\n",
       "      <td>6</td>\n",
       "    </tr>\n",
       "    <tr>\n",
       "      <th>4</th>\n",
       "      <td>201804</td>\n",
       "      <td>AS015739</td>\n",
       "      <td>7</td>\n",
       "    </tr>\n",
       "  </tbody>\n",
       "</table>\n",
       "</div>"
      ],
      "text/plain": [
       "       연월 customer_id  count\n",
       "0  201804    AS002855      4\n",
       "1  201804    AS009013      2\n",
       "2  201804    AS009373      3\n",
       "3  201804    AS015315      6\n",
       "4  201804    AS015739      7"
      ]
     },
     "execution_count": 6,
     "metadata": {},
     "output_type": "execute_result"
    }
   ],
   "source": [
    "uselog_months.head()"
   ]
  },
  {
   "cell_type": "code",
   "execution_count": 7,
   "id": "d94f8f29-5983-4d8a-a726-a13e9c25cac4",
   "metadata": {},
   "outputs": [
    {
     "data": {
      "text/html": [
       "<div>\n",
       "<style scoped>\n",
       "    .dataframe tbody tr th:only-of-type {\n",
       "        vertical-align: middle;\n",
       "    }\n",
       "\n",
       "    .dataframe tbody tr th {\n",
       "        vertical-align: top;\n",
       "    }\n",
       "\n",
       "    .dataframe thead th {\n",
       "        text-align: right;\n",
       "    }\n",
       "</style>\n",
       "<table border=\"1\" class=\"dataframe\">\n",
       "  <thead>\n",
       "    <tr style=\"text-align: right;\">\n",
       "      <th></th>\n",
       "      <th>연월</th>\n",
       "      <th>customer_id</th>\n",
       "      <th>count_0</th>\n",
       "      <th>count_1</th>\n",
       "    </tr>\n",
       "  </thead>\n",
       "  <tbody>\n",
       "    <tr>\n",
       "      <th>0</th>\n",
       "      <td>201805</td>\n",
       "      <td>AS002855</td>\n",
       "      <td>5</td>\n",
       "      <td>4.0</td>\n",
       "    </tr>\n",
       "    <tr>\n",
       "      <th>1</th>\n",
       "      <td>201805</td>\n",
       "      <td>AS009373</td>\n",
       "      <td>4</td>\n",
       "      <td>3.0</td>\n",
       "    </tr>\n",
       "    <tr>\n",
       "      <th>2</th>\n",
       "      <td>201805</td>\n",
       "      <td>AS015233</td>\n",
       "      <td>7</td>\n",
       "      <td>NaN</td>\n",
       "    </tr>\n",
       "    <tr>\n",
       "      <th>3</th>\n",
       "      <td>201805</td>\n",
       "      <td>AS015315</td>\n",
       "      <td>3</td>\n",
       "      <td>6.0</td>\n",
       "    </tr>\n",
       "    <tr>\n",
       "      <th>4</th>\n",
       "      <td>201805</td>\n",
       "      <td>AS015739</td>\n",
       "      <td>5</td>\n",
       "      <td>7.0</td>\n",
       "    </tr>\n",
       "  </tbody>\n",
       "</table>\n",
       "</div>"
      ],
      "text/plain": [
       "       연월 customer_id  count_0  count_1\n",
       "0  201805    AS002855        5      4.0\n",
       "1  201805    AS009373        4      3.0\n",
       "2  201805    AS015233        7      NaN\n",
       "3  201805    AS015315        3      6.0\n",
       "4  201805    AS015739        5      7.0"
      ]
     },
     "execution_count": 7,
     "metadata": {},
     "output_type": "execute_result"
    }
   ],
   "source": [
    "for i in range (1,len(year_months)) :\n",
    "    tmp = uselog_months.loc[uselog_months['연월'] == year_months[i]]\n",
    "    tmp.rename(columns = {'count' : 'count_0'},inplace = True)\n",
    "    tmp_before = uselog_months.loc[uselog_months['연월'] == year_months[i-1]]\n",
    "    del tmp_before['연월']\n",
    "    tmp_before.rename(columns = {'count' : 'count_1'},inplace = True)\n",
    "    tmp = pd.merge(tmp, tmp_before, on = 'customer_id', how = 'left')\n",
    "    uselog = pd.concat([uselog,tmp],ignore_index = True)\n",
    "uselog.head()"
   ]
  },
  {
   "cell_type": "code",
   "execution_count": 8,
   "id": "b980dda8-d6fe-4503-b75e-586df5bab9da",
   "metadata": {},
   "outputs": [],
   "source": [
    "from dateutil.relativedelta import relativedelta\n",
    "exit_customer = customer.loc[customer['is_deleted']==1]\n",
    "exit_customer['exit_date'] = None\n",
    "exit_customer['end_date'] = pd.to_datetime(exit_customer['end_date'])\n",
    "for i in range(len(exit_customer)) :\n",
    "    exit_customer['exit_date'].iloc[i] = exit_customer['end_date'].iloc[i]-relativedelta(months = 1)"
   ]
  },
  {
   "cell_type": "code",
   "execution_count": 9,
   "id": "a9476ca7-6cae-4f93-8982-ab004784914c",
   "metadata": {},
   "outputs": [],
   "source": [
    "exit_customer['연월'] = pd.to_datetime(exit_customer['exit_date']).dt.strftime('%Y%m')"
   ]
  },
  {
   "cell_type": "code",
   "execution_count": 10,
   "id": "e7986c74-4178-4c26-8a9f-7afcbedfe5d4",
   "metadata": {},
   "outputs": [],
   "source": [
    "uselog['연월'] = uselog['연월'].astype(str)"
   ]
  },
  {
   "cell_type": "code",
   "execution_count": 11,
   "id": "3daae325-6bea-495c-b276-316de059ae91",
   "metadata": {},
   "outputs": [],
   "source": [
    "exit_uselog = pd.merge(uselog,exit_customer, on = ['customer_id','연월'], how = 'left')"
   ]
  },
  {
   "cell_type": "code",
   "execution_count": 12,
   "id": "6411f962-17b1-44b8-8b10-5163f2ab28c2",
   "metadata": {},
   "outputs": [
    {
     "data": {
      "text/plain": [
       "33851"
      ]
     },
     "execution_count": 12,
     "metadata": {},
     "output_type": "execute_result"
    }
   ],
   "source": [
    "len(uselog)"
   ]
  },
  {
   "cell_type": "code",
   "execution_count": 13,
   "id": "a27f08b0-6a1d-498c-947f-3ff4cf9e4f02",
   "metadata": {},
   "outputs": [
    {
     "data": {
      "text/html": [
       "<div>\n",
       "<style scoped>\n",
       "    .dataframe tbody tr th:only-of-type {\n",
       "        vertical-align: middle;\n",
       "    }\n",
       "\n",
       "    .dataframe tbody tr th {\n",
       "        vertical-align: top;\n",
       "    }\n",
       "\n",
       "    .dataframe thead th {\n",
       "        text-align: right;\n",
       "    }\n",
       "</style>\n",
       "<table border=\"1\" class=\"dataframe\">\n",
       "  <thead>\n",
       "    <tr style=\"text-align: right;\">\n",
       "      <th></th>\n",
       "      <th>연월</th>\n",
       "      <th>customer_id</th>\n",
       "      <th>count_0</th>\n",
       "      <th>count_1</th>\n",
       "      <th>name</th>\n",
       "      <th>class</th>\n",
       "      <th>gender</th>\n",
       "      <th>start_date</th>\n",
       "      <th>end_date</th>\n",
       "      <th>campaign_id</th>\n",
       "      <th>...</th>\n",
       "      <th>price</th>\n",
       "      <th>campaign_name</th>\n",
       "      <th>mean</th>\n",
       "      <th>median</th>\n",
       "      <th>max</th>\n",
       "      <th>min</th>\n",
       "      <th>routine_flg</th>\n",
       "      <th>calc_date</th>\n",
       "      <th>membership_period</th>\n",
       "      <th>exit_date</th>\n",
       "    </tr>\n",
       "  </thead>\n",
       "  <tbody>\n",
       "    <tr>\n",
       "      <th>0</th>\n",
       "      <td>201805</td>\n",
       "      <td>AS002855</td>\n",
       "      <td>5</td>\n",
       "      <td>4.0</td>\n",
       "      <td>NaN</td>\n",
       "      <td>NaN</td>\n",
       "      <td>NaN</td>\n",
       "      <td>NaN</td>\n",
       "      <td>NaT</td>\n",
       "      <td>NaN</td>\n",
       "      <td>...</td>\n",
       "      <td>NaN</td>\n",
       "      <td>NaN</td>\n",
       "      <td>NaN</td>\n",
       "      <td>NaN</td>\n",
       "      <td>NaN</td>\n",
       "      <td>NaN</td>\n",
       "      <td>NaN</td>\n",
       "      <td>NaN</td>\n",
       "      <td>NaN</td>\n",
       "      <td>NaN</td>\n",
       "    </tr>\n",
       "    <tr>\n",
       "      <th>1</th>\n",
       "      <td>201805</td>\n",
       "      <td>AS009373</td>\n",
       "      <td>4</td>\n",
       "      <td>3.0</td>\n",
       "      <td>NaN</td>\n",
       "      <td>NaN</td>\n",
       "      <td>NaN</td>\n",
       "      <td>NaN</td>\n",
       "      <td>NaT</td>\n",
       "      <td>NaN</td>\n",
       "      <td>...</td>\n",
       "      <td>NaN</td>\n",
       "      <td>NaN</td>\n",
       "      <td>NaN</td>\n",
       "      <td>NaN</td>\n",
       "      <td>NaN</td>\n",
       "      <td>NaN</td>\n",
       "      <td>NaN</td>\n",
       "      <td>NaN</td>\n",
       "      <td>NaN</td>\n",
       "      <td>NaN</td>\n",
       "    </tr>\n",
       "    <tr>\n",
       "      <th>2</th>\n",
       "      <td>201805</td>\n",
       "      <td>AS015233</td>\n",
       "      <td>7</td>\n",
       "      <td>NaN</td>\n",
       "      <td>NaN</td>\n",
       "      <td>NaN</td>\n",
       "      <td>NaN</td>\n",
       "      <td>NaN</td>\n",
       "      <td>NaT</td>\n",
       "      <td>NaN</td>\n",
       "      <td>...</td>\n",
       "      <td>NaN</td>\n",
       "      <td>NaN</td>\n",
       "      <td>NaN</td>\n",
       "      <td>NaN</td>\n",
       "      <td>NaN</td>\n",
       "      <td>NaN</td>\n",
       "      <td>NaN</td>\n",
       "      <td>NaN</td>\n",
       "      <td>NaN</td>\n",
       "      <td>NaN</td>\n",
       "    </tr>\n",
       "    <tr>\n",
       "      <th>3</th>\n",
       "      <td>201805</td>\n",
       "      <td>AS015315</td>\n",
       "      <td>3</td>\n",
       "      <td>6.0</td>\n",
       "      <td>NaN</td>\n",
       "      <td>NaN</td>\n",
       "      <td>NaN</td>\n",
       "      <td>NaN</td>\n",
       "      <td>NaT</td>\n",
       "      <td>NaN</td>\n",
       "      <td>...</td>\n",
       "      <td>NaN</td>\n",
       "      <td>NaN</td>\n",
       "      <td>NaN</td>\n",
       "      <td>NaN</td>\n",
       "      <td>NaN</td>\n",
       "      <td>NaN</td>\n",
       "      <td>NaN</td>\n",
       "      <td>NaN</td>\n",
       "      <td>NaN</td>\n",
       "      <td>NaN</td>\n",
       "    </tr>\n",
       "    <tr>\n",
       "      <th>4</th>\n",
       "      <td>201805</td>\n",
       "      <td>AS015739</td>\n",
       "      <td>5</td>\n",
       "      <td>7.0</td>\n",
       "      <td>NaN</td>\n",
       "      <td>NaN</td>\n",
       "      <td>NaN</td>\n",
       "      <td>NaN</td>\n",
       "      <td>NaT</td>\n",
       "      <td>NaN</td>\n",
       "      <td>...</td>\n",
       "      <td>NaN</td>\n",
       "      <td>NaN</td>\n",
       "      <td>NaN</td>\n",
       "      <td>NaN</td>\n",
       "      <td>NaN</td>\n",
       "      <td>NaN</td>\n",
       "      <td>NaN</td>\n",
       "      <td>NaN</td>\n",
       "      <td>NaN</td>\n",
       "      <td>NaN</td>\n",
       "    </tr>\n",
       "  </tbody>\n",
       "</table>\n",
       "<p>5 rows × 22 columns</p>\n",
       "</div>"
      ],
      "text/plain": [
       "       연월 customer_id  count_0  count_1 name class gender start_date end_date  \\\n",
       "0  201805    AS002855        5      4.0  NaN   NaN    NaN        NaN      NaT   \n",
       "1  201805    AS009373        4      3.0  NaN   NaN    NaN        NaN      NaT   \n",
       "2  201805    AS015233        7      NaN  NaN   NaN    NaN        NaN      NaT   \n",
       "3  201805    AS015315        3      6.0  NaN   NaN    NaN        NaN      NaT   \n",
       "4  201805    AS015739        5      7.0  NaN   NaN    NaN        NaN      NaT   \n",
       "\n",
       "  campaign_id  ...  price campaign_name  mean median  max  min  routine_flg  \\\n",
       "0         NaN  ...    NaN           NaN   NaN    NaN  NaN  NaN          NaN   \n",
       "1         NaN  ...    NaN           NaN   NaN    NaN  NaN  NaN          NaN   \n",
       "2         NaN  ...    NaN           NaN   NaN    NaN  NaN  NaN          NaN   \n",
       "3         NaN  ...    NaN           NaN   NaN    NaN  NaN  NaN          NaN   \n",
       "4         NaN  ...    NaN           NaN   NaN    NaN  NaN  NaN          NaN   \n",
       "\n",
       "   calc_date  membership_period exit_date  \n",
       "0        NaN                NaN       NaN  \n",
       "1        NaN                NaN       NaN  \n",
       "2        NaN                NaN       NaN  \n",
       "3        NaN                NaN       NaN  \n",
       "4        NaN                NaN       NaN  \n",
       "\n",
       "[5 rows x 22 columns]"
      ]
     },
     "execution_count": 13,
     "metadata": {},
     "output_type": "execute_result"
    }
   ],
   "source": [
    "exit_uselog.head()"
   ]
  },
  {
   "cell_type": "code",
   "execution_count": 14,
   "id": "01d34784-9596-49ad-8799-69d99d2d476e",
   "metadata": {},
   "outputs": [],
   "source": [
    "exit_uselog = exit_uselog.dropna(subset = ['name'])"
   ]
  },
  {
   "cell_type": "code",
   "execution_count": 15,
   "id": "eb19ed62-a16a-4858-ae96-7069353198c4",
   "metadata": {},
   "outputs": [
    {
     "data": {
      "text/plain": [
       "1104"
      ]
     },
     "execution_count": 15,
     "metadata": {},
     "output_type": "execute_result"
    }
   ],
   "source": [
    "len(exit_uselog)"
   ]
  },
  {
   "cell_type": "code",
   "execution_count": 16,
   "id": "b767d229-9ea5-48f0-b5c0-8cfb41ca094c",
   "metadata": {},
   "outputs": [
    {
     "data": {
      "text/plain": [
       "1104"
      ]
     },
     "execution_count": 16,
     "metadata": {},
     "output_type": "execute_result"
    }
   ],
   "source": [
    "len(exit_uselog['customer_id'].unique())"
   ]
  },
  {
   "cell_type": "code",
   "execution_count": 17,
   "id": "8a53c6aa-e65b-47ed-9768-33fa1ea85f69",
   "metadata": {},
   "outputs": [
    {
     "data": {
      "text/html": [
       "<div>\n",
       "<style scoped>\n",
       "    .dataframe tbody tr th:only-of-type {\n",
       "        vertical-align: middle;\n",
       "    }\n",
       "\n",
       "    .dataframe tbody tr th {\n",
       "        vertical-align: top;\n",
       "    }\n",
       "\n",
       "    .dataframe thead th {\n",
       "        text-align: right;\n",
       "    }\n",
       "</style>\n",
       "<table border=\"1\" class=\"dataframe\">\n",
       "  <thead>\n",
       "    <tr style=\"text-align: right;\">\n",
       "      <th></th>\n",
       "      <th>연월</th>\n",
       "      <th>customer_id</th>\n",
       "      <th>count_0</th>\n",
       "      <th>count_1</th>\n",
       "      <th>name</th>\n",
       "      <th>class</th>\n",
       "      <th>gender</th>\n",
       "      <th>start_date</th>\n",
       "      <th>end_date</th>\n",
       "      <th>campaign_id</th>\n",
       "      <th>...</th>\n",
       "      <th>price</th>\n",
       "      <th>campaign_name</th>\n",
       "      <th>mean</th>\n",
       "      <th>median</th>\n",
       "      <th>max</th>\n",
       "      <th>min</th>\n",
       "      <th>routine_flg</th>\n",
       "      <th>calc_date</th>\n",
       "      <th>membership_period</th>\n",
       "      <th>exit_date</th>\n",
       "    </tr>\n",
       "  </thead>\n",
       "  <tbody>\n",
       "    <tr>\n",
       "      <th>19</th>\n",
       "      <td>201805</td>\n",
       "      <td>AS055680</td>\n",
       "      <td>3</td>\n",
       "      <td>3.0</td>\n",
       "      <td>XXXXX</td>\n",
       "      <td>C01</td>\n",
       "      <td>M</td>\n",
       "      <td>2018-03-01</td>\n",
       "      <td>2018-06-30</td>\n",
       "      <td>CA1</td>\n",
       "      <td>...</td>\n",
       "      <td>10500.0</td>\n",
       "      <td>2_일반</td>\n",
       "      <td>3.000000</td>\n",
       "      <td>3.0</td>\n",
       "      <td>3.0</td>\n",
       "      <td>3.0</td>\n",
       "      <td>0.0</td>\n",
       "      <td>2018-06-30</td>\n",
       "      <td>3.0</td>\n",
       "      <td>2018-05-30 00:00:00</td>\n",
       "    </tr>\n",
       "    <tr>\n",
       "      <th>57</th>\n",
       "      <td>201805</td>\n",
       "      <td>AS169823</td>\n",
       "      <td>2</td>\n",
       "      <td>3.0</td>\n",
       "      <td>XX</td>\n",
       "      <td>C01</td>\n",
       "      <td>M</td>\n",
       "      <td>2017-11-01</td>\n",
       "      <td>2018-06-30</td>\n",
       "      <td>CA1</td>\n",
       "      <td>...</td>\n",
       "      <td>10500.0</td>\n",
       "      <td>2_일반</td>\n",
       "      <td>3.000000</td>\n",
       "      <td>3.0</td>\n",
       "      <td>4.0</td>\n",
       "      <td>2.0</td>\n",
       "      <td>1.0</td>\n",
       "      <td>2018-06-30</td>\n",
       "      <td>7.0</td>\n",
       "      <td>2018-05-30 00:00:00</td>\n",
       "    </tr>\n",
       "    <tr>\n",
       "      <th>110</th>\n",
       "      <td>201805</td>\n",
       "      <td>AS305860</td>\n",
       "      <td>5</td>\n",
       "      <td>3.0</td>\n",
       "      <td>XXXX</td>\n",
       "      <td>C01</td>\n",
       "      <td>M</td>\n",
       "      <td>2017-06-01</td>\n",
       "      <td>2018-06-30</td>\n",
       "      <td>CA1</td>\n",
       "      <td>...</td>\n",
       "      <td>10500.0</td>\n",
       "      <td>2_일반</td>\n",
       "      <td>3.333333</td>\n",
       "      <td>3.0</td>\n",
       "      <td>5.0</td>\n",
       "      <td>2.0</td>\n",
       "      <td>0.0</td>\n",
       "      <td>2018-06-30</td>\n",
       "      <td>12.0</td>\n",
       "      <td>2018-05-30 00:00:00</td>\n",
       "    </tr>\n",
       "    <tr>\n",
       "      <th>128</th>\n",
       "      <td>201805</td>\n",
       "      <td>AS363699</td>\n",
       "      <td>5</td>\n",
       "      <td>3.0</td>\n",
       "      <td>XXXXX</td>\n",
       "      <td>C01</td>\n",
       "      <td>M</td>\n",
       "      <td>2018-02-01</td>\n",
       "      <td>2018-06-30</td>\n",
       "      <td>CA1</td>\n",
       "      <td>...</td>\n",
       "      <td>10500.0</td>\n",
       "      <td>2_일반</td>\n",
       "      <td>3.333333</td>\n",
       "      <td>3.0</td>\n",
       "      <td>5.0</td>\n",
       "      <td>2.0</td>\n",
       "      <td>0.0</td>\n",
       "      <td>2018-06-30</td>\n",
       "      <td>4.0</td>\n",
       "      <td>2018-05-30 00:00:00</td>\n",
       "    </tr>\n",
       "    <tr>\n",
       "      <th>147</th>\n",
       "      <td>201805</td>\n",
       "      <td>AS417696</td>\n",
       "      <td>1</td>\n",
       "      <td>4.0</td>\n",
       "      <td>XX</td>\n",
       "      <td>C03</td>\n",
       "      <td>F</td>\n",
       "      <td>2017-09-01</td>\n",
       "      <td>2018-06-30</td>\n",
       "      <td>CA1</td>\n",
       "      <td>...</td>\n",
       "      <td>6000.0</td>\n",
       "      <td>2_일반</td>\n",
       "      <td>2.000000</td>\n",
       "      <td>1.0</td>\n",
       "      <td>4.0</td>\n",
       "      <td>1.0</td>\n",
       "      <td>0.0</td>\n",
       "      <td>2018-06-30</td>\n",
       "      <td>9.0</td>\n",
       "      <td>2018-05-30 00:00:00</td>\n",
       "    </tr>\n",
       "  </tbody>\n",
       "</table>\n",
       "<p>5 rows × 22 columns</p>\n",
       "</div>"
      ],
      "text/plain": [
       "         연월 customer_id  count_0  count_1   name class gender  start_date  \\\n",
       "19   201805    AS055680        3      3.0  XXXXX   C01      M  2018-03-01   \n",
       "57   201805    AS169823        2      3.0     XX   C01      M  2017-11-01   \n",
       "110  201805    AS305860        5      3.0   XXXX   C01      M  2017-06-01   \n",
       "128  201805    AS363699        5      3.0  XXXXX   C01      M  2018-02-01   \n",
       "147  201805    AS417696        1      4.0     XX   C03      F  2017-09-01   \n",
       "\n",
       "      end_date campaign_id  ...    price campaign_name      mean median  max  \\\n",
       "19  2018-06-30         CA1  ...  10500.0          2_일반  3.000000    3.0  3.0   \n",
       "57  2018-06-30         CA1  ...  10500.0          2_일반  3.000000    3.0  4.0   \n",
       "110 2018-06-30         CA1  ...  10500.0          2_일반  3.333333    3.0  5.0   \n",
       "128 2018-06-30         CA1  ...  10500.0          2_일반  3.333333    3.0  5.0   \n",
       "147 2018-06-30         CA1  ...   6000.0          2_일반  2.000000    1.0  4.0   \n",
       "\n",
       "     min  routine_flg   calc_date  membership_period            exit_date  \n",
       "19   3.0          0.0  2018-06-30                3.0  2018-05-30 00:00:00  \n",
       "57   2.0          1.0  2018-06-30                7.0  2018-05-30 00:00:00  \n",
       "110  2.0          0.0  2018-06-30               12.0  2018-05-30 00:00:00  \n",
       "128  2.0          0.0  2018-06-30                4.0  2018-05-30 00:00:00  \n",
       "147  1.0          0.0  2018-06-30                9.0  2018-05-30 00:00:00  \n",
       "\n",
       "[5 rows x 22 columns]"
      ]
     },
     "execution_count": 17,
     "metadata": {},
     "output_type": "execute_result"
    }
   ],
   "source": [
    "exit_uselog.head()"
   ]
  },
  {
   "cell_type": "markdown",
   "id": "463945a0-4b1a-45ce-a1a2-c50e9b3ea35b",
   "metadata": {},
   "source": [
    "### 지속 회원의 데이터를 작성하자"
   ]
  },
  {
   "cell_type": "code",
   "execution_count": 18,
   "id": "b1557137-4060-4bde-a7b2-9af1886759ea",
   "metadata": {},
   "outputs": [],
   "source": [
    "conti_customer = customer.loc[customer['is_deleted']==0]"
   ]
  },
  {
   "cell_type": "code",
   "execution_count": 19,
   "id": "df9c2c6b-64a0-4bdd-9ad5-17a225e5624c",
   "metadata": {},
   "outputs": [],
   "source": [
    "conti_uselog = pd.merge(uselog,conti_customer,how = 'left', on = 'customer_id')"
   ]
  },
  {
   "cell_type": "code",
   "execution_count": 20,
   "id": "182e5444-b45d-4f1b-bb94-ce50ca16b9ce",
   "metadata": {},
   "outputs": [
    {
     "data": {
      "text/plain": [
       "33851"
      ]
     },
     "execution_count": 20,
     "metadata": {},
     "output_type": "execute_result"
    }
   ],
   "source": [
    "len(conti_uselog)"
   ]
  },
  {
   "cell_type": "code",
   "execution_count": 21,
   "id": "62ec42f4-81f3-4968-9f56-cb9c8bc534ae",
   "metadata": {},
   "outputs": [],
   "source": [
    "conti_uselog = conti_uselog.dropna(subset=['name'])"
   ]
  },
  {
   "cell_type": "code",
   "execution_count": 22,
   "id": "40eefeb5-4481-49dd-b1aa-d33143fcaf62",
   "metadata": {},
   "outputs": [
    {
     "data": {
      "text/plain": [
       "27422"
      ]
     },
     "execution_count": 22,
     "metadata": {},
     "output_type": "execute_result"
    }
   ],
   "source": [
    "len(conti_uselog)"
   ]
  },
  {
   "cell_type": "code",
   "execution_count": 23,
   "id": "d30650f6-3c1c-4bb3-828b-27e08740ba3a",
   "metadata": {},
   "outputs": [],
   "source": [
    "conti_uselog = conti_uselog.sample(frac = 1).reset_index(drop = True)\n",
    "conti_uselog = conti_uselog.drop_duplicates(subset = 'customer_id')"
   ]
  },
  {
   "cell_type": "code",
   "execution_count": 24,
   "id": "7ffd5783-c696-4ee4-a878-3864e7ffff60",
   "metadata": {},
   "outputs": [
    {
     "data": {
      "text/plain": [
       "2842"
      ]
     },
     "execution_count": 24,
     "metadata": {},
     "output_type": "execute_result"
    }
   ],
   "source": [
    "len(conti_uselog)"
   ]
  },
  {
   "cell_type": "markdown",
   "id": "63048bb7-f48a-4d65-8728-b9328c68d0ea",
   "metadata": {},
   "source": [
    "#### 지속 회원 데이터와 탈퇴 회원 데이터 결합"
   ]
  },
  {
   "cell_type": "code",
   "execution_count": 25,
   "id": "6d6af056-4ada-4503-b2f7-f2a9de6098ee",
   "metadata": {},
   "outputs": [],
   "source": [
    "predict_data = pd.concat([conti_uselog,exit_uselog], ignore_index = True)"
   ]
  },
  {
   "cell_type": "code",
   "execution_count": 26,
   "id": "d3356dae-6c11-41bd-9144-e01ef39c7dcb",
   "metadata": {},
   "outputs": [
    {
     "data": {
      "text/plain": [
       "3946"
      ]
     },
     "execution_count": 26,
     "metadata": {},
     "output_type": "execute_result"
    }
   ],
   "source": [
    "len(predict_data)"
   ]
  },
  {
   "cell_type": "code",
   "execution_count": 27,
   "id": "ec411c38-8945-40c5-9ee8-aa206749ef61",
   "metadata": {},
   "outputs": [],
   "source": [
    "predict_data['period'] = 0"
   ]
  },
  {
   "cell_type": "code",
   "execution_count": 28,
   "id": "57c2278a-4b4b-439a-906c-9f8eab06f452",
   "metadata": {},
   "outputs": [
    {
     "data": {
      "text/html": [
       "<div>\n",
       "<style scoped>\n",
       "    .dataframe tbody tr th:only-of-type {\n",
       "        vertical-align: middle;\n",
       "    }\n",
       "\n",
       "    .dataframe tbody tr th {\n",
       "        vertical-align: top;\n",
       "    }\n",
       "\n",
       "    .dataframe thead th {\n",
       "        text-align: right;\n",
       "    }\n",
       "</style>\n",
       "<table border=\"1\" class=\"dataframe\">\n",
       "  <thead>\n",
       "    <tr style=\"text-align: right;\">\n",
       "      <th></th>\n",
       "      <th>연월</th>\n",
       "      <th>customer_id</th>\n",
       "      <th>count_0</th>\n",
       "      <th>count_1</th>\n",
       "      <th>name</th>\n",
       "      <th>class</th>\n",
       "      <th>gender</th>\n",
       "      <th>start_date</th>\n",
       "      <th>end_date</th>\n",
       "      <th>campaign_id</th>\n",
       "      <th>...</th>\n",
       "      <th>campaign_name</th>\n",
       "      <th>mean</th>\n",
       "      <th>median</th>\n",
       "      <th>max</th>\n",
       "      <th>min</th>\n",
       "      <th>routine_flg</th>\n",
       "      <th>calc_date</th>\n",
       "      <th>membership_period</th>\n",
       "      <th>exit_date</th>\n",
       "      <th>period</th>\n",
       "    </tr>\n",
       "  </thead>\n",
       "  <tbody>\n",
       "    <tr>\n",
       "      <th>0</th>\n",
       "      <td>201903</td>\n",
       "      <td>AS458614</td>\n",
       "      <td>4</td>\n",
       "      <td>4.0</td>\n",
       "      <td>XXX</td>\n",
       "      <td>C01</td>\n",
       "      <td>F</td>\n",
       "      <td>2017-03-01</td>\n",
       "      <td>NaN</td>\n",
       "      <td>CA1</td>\n",
       "      <td>...</td>\n",
       "      <td>2_일반</td>\n",
       "      <td>5.333333</td>\n",
       "      <td>4.5</td>\n",
       "      <td>10.0</td>\n",
       "      <td>3.0</td>\n",
       "      <td>1.0</td>\n",
       "      <td>2019-04-30</td>\n",
       "      <td>25.0</td>\n",
       "      <td>NaN</td>\n",
       "      <td>0</td>\n",
       "    </tr>\n",
       "    <tr>\n",
       "      <th>1</th>\n",
       "      <td>201807</td>\n",
       "      <td>PL343970</td>\n",
       "      <td>4</td>\n",
       "      <td>6.0</td>\n",
       "      <td>XXXXX</td>\n",
       "      <td>C01</td>\n",
       "      <td>F</td>\n",
       "      <td>2015-10-01</td>\n",
       "      <td>NaN</td>\n",
       "      <td>CA1</td>\n",
       "      <td>...</td>\n",
       "      <td>2_일반</td>\n",
       "      <td>5.250000</td>\n",
       "      <td>5.0</td>\n",
       "      <td>7.0</td>\n",
       "      <td>4.0</td>\n",
       "      <td>1.0</td>\n",
       "      <td>2019-04-30</td>\n",
       "      <td>42.0</td>\n",
       "      <td>NaN</td>\n",
       "      <td>0</td>\n",
       "    </tr>\n",
       "    <tr>\n",
       "      <th>2</th>\n",
       "      <td>201808</td>\n",
       "      <td>OA436769</td>\n",
       "      <td>7</td>\n",
       "      <td>NaN</td>\n",
       "      <td>XXXX</td>\n",
       "      <td>C03</td>\n",
       "      <td>M</td>\n",
       "      <td>2018-08-03</td>\n",
       "      <td>NaN</td>\n",
       "      <td>CA1</td>\n",
       "      <td>...</td>\n",
       "      <td>2_일반</td>\n",
       "      <td>7.000000</td>\n",
       "      <td>7.0</td>\n",
       "      <td>9.0</td>\n",
       "      <td>4.0</td>\n",
       "      <td>1.0</td>\n",
       "      <td>2019-04-30</td>\n",
       "      <td>8.0</td>\n",
       "      <td>NaN</td>\n",
       "      <td>0</td>\n",
       "    </tr>\n",
       "    <tr>\n",
       "      <th>3</th>\n",
       "      <td>201901</td>\n",
       "      <td>HI778223</td>\n",
       "      <td>3</td>\n",
       "      <td>6.0</td>\n",
       "      <td>XX</td>\n",
       "      <td>C03</td>\n",
       "      <td>M</td>\n",
       "      <td>2015-07-01</td>\n",
       "      <td>NaN</td>\n",
       "      <td>CA1</td>\n",
       "      <td>...</td>\n",
       "      <td>2_일반</td>\n",
       "      <td>4.250000</td>\n",
       "      <td>4.5</td>\n",
       "      <td>7.0</td>\n",
       "      <td>2.0</td>\n",
       "      <td>1.0</td>\n",
       "      <td>2019-04-30</td>\n",
       "      <td>45.0</td>\n",
       "      <td>NaN</td>\n",
       "      <td>0</td>\n",
       "    </tr>\n",
       "    <tr>\n",
       "      <th>4</th>\n",
       "      <td>201811</td>\n",
       "      <td>IK149763</td>\n",
       "      <td>5</td>\n",
       "      <td>3.0</td>\n",
       "      <td>XXXXX</td>\n",
       "      <td>C03</td>\n",
       "      <td>M</td>\n",
       "      <td>2017-09-01</td>\n",
       "      <td>NaN</td>\n",
       "      <td>CA1</td>\n",
       "      <td>...</td>\n",
       "      <td>2_일반</td>\n",
       "      <td>5.250000</td>\n",
       "      <td>5.0</td>\n",
       "      <td>8.0</td>\n",
       "      <td>2.0</td>\n",
       "      <td>1.0</td>\n",
       "      <td>2019-04-30</td>\n",
       "      <td>19.0</td>\n",
       "      <td>NaN</td>\n",
       "      <td>0</td>\n",
       "    </tr>\n",
       "  </tbody>\n",
       "</table>\n",
       "<p>5 rows × 23 columns</p>\n",
       "</div>"
      ],
      "text/plain": [
       "       연월 customer_id  count_0  count_1   name class gender  start_date  \\\n",
       "0  201903    AS458614        4      4.0    XXX   C01      F  2017-03-01   \n",
       "1  201807    PL343970        4      6.0  XXXXX   C01      F  2015-10-01   \n",
       "2  201808    OA436769        7      NaN   XXXX   C03      M  2018-08-03   \n",
       "3  201901    HI778223        3      6.0     XX   C03      M  2015-07-01   \n",
       "4  201811    IK149763        5      3.0  XXXXX   C03      M  2017-09-01   \n",
       "\n",
       "  end_date campaign_id  ...  campaign_name      mean  median   max  min  \\\n",
       "0      NaN         CA1  ...           2_일반  5.333333     4.5  10.0  3.0   \n",
       "1      NaN         CA1  ...           2_일반  5.250000     5.0   7.0  4.0   \n",
       "2      NaN         CA1  ...           2_일반  7.000000     7.0   9.0  4.0   \n",
       "3      NaN         CA1  ...           2_일반  4.250000     4.5   7.0  2.0   \n",
       "4      NaN         CA1  ...           2_일반  5.250000     5.0   8.0  2.0   \n",
       "\n",
       "   routine_flg   calc_date  membership_period  exit_date period  \n",
       "0          1.0  2019-04-30               25.0        NaN      0  \n",
       "1          1.0  2019-04-30               42.0        NaN      0  \n",
       "2          1.0  2019-04-30                8.0        NaN      0  \n",
       "3          1.0  2019-04-30               45.0        NaN      0  \n",
       "4          1.0  2019-04-30               19.0        NaN      0  \n",
       "\n",
       "[5 rows x 23 columns]"
      ]
     },
     "execution_count": 28,
     "metadata": {},
     "output_type": "execute_result"
    }
   ],
   "source": [
    "predict_data.head()"
   ]
  },
  {
   "cell_type": "code",
   "execution_count": 29,
   "id": "3e139d1c-57e1-4738-8173-7fae5a18a66e",
   "metadata": {},
   "outputs": [],
   "source": [
    "predict_data['now_date'] = pd.to_datetime(predict_data['연월'],format = '%Y%m')\n",
    "predict_data['start_date'] = pd.to_datetime(predict_data['start_date'])"
   ]
  },
  {
   "cell_type": "code",
   "execution_count": 30,
   "id": "819c88f8-b7ec-4047-81e6-c4e1dc2b4ca8",
   "metadata": {},
   "outputs": [],
   "source": [
    "for i in range(len(predict_data)) :\n",
    "    delta = relativedelta(predict_data['now_date'][i],predict_data['start_date'][i])\n",
    "    predict_data['period'][i] = int(delta.years *12 + delta.months)"
   ]
  },
  {
   "cell_type": "code",
   "execution_count": 31,
   "id": "50af1c7c-4b0f-4def-bd64-bf226bdaa6ec",
   "metadata": {},
   "outputs": [
    {
     "data": {
      "text/html": [
       "<div>\n",
       "<style scoped>\n",
       "    .dataframe tbody tr th:only-of-type {\n",
       "        vertical-align: middle;\n",
       "    }\n",
       "\n",
       "    .dataframe tbody tr th {\n",
       "        vertical-align: top;\n",
       "    }\n",
       "\n",
       "    .dataframe thead th {\n",
       "        text-align: right;\n",
       "    }\n",
       "</style>\n",
       "<table border=\"1\" class=\"dataframe\">\n",
       "  <thead>\n",
       "    <tr style=\"text-align: right;\">\n",
       "      <th></th>\n",
       "      <th>연월</th>\n",
       "      <th>customer_id</th>\n",
       "      <th>count_0</th>\n",
       "      <th>count_1</th>\n",
       "      <th>name</th>\n",
       "      <th>class</th>\n",
       "      <th>gender</th>\n",
       "      <th>start_date</th>\n",
       "      <th>end_date</th>\n",
       "      <th>campaign_id</th>\n",
       "      <th>...</th>\n",
       "      <th>mean</th>\n",
       "      <th>median</th>\n",
       "      <th>max</th>\n",
       "      <th>min</th>\n",
       "      <th>routine_flg</th>\n",
       "      <th>calc_date</th>\n",
       "      <th>membership_period</th>\n",
       "      <th>exit_date</th>\n",
       "      <th>period</th>\n",
       "      <th>now_date</th>\n",
       "    </tr>\n",
       "  </thead>\n",
       "  <tbody>\n",
       "    <tr>\n",
       "      <th>0</th>\n",
       "      <td>201903</td>\n",
       "      <td>AS458614</td>\n",
       "      <td>4</td>\n",
       "      <td>4.0</td>\n",
       "      <td>XXX</td>\n",
       "      <td>C01</td>\n",
       "      <td>F</td>\n",
       "      <td>2017-03-01</td>\n",
       "      <td>NaN</td>\n",
       "      <td>CA1</td>\n",
       "      <td>...</td>\n",
       "      <td>5.333333</td>\n",
       "      <td>4.5</td>\n",
       "      <td>10.0</td>\n",
       "      <td>3.0</td>\n",
       "      <td>1.0</td>\n",
       "      <td>2019-04-30</td>\n",
       "      <td>25.0</td>\n",
       "      <td>NaN</td>\n",
       "      <td>24</td>\n",
       "      <td>2019-03-01</td>\n",
       "    </tr>\n",
       "    <tr>\n",
       "      <th>1</th>\n",
       "      <td>201807</td>\n",
       "      <td>PL343970</td>\n",
       "      <td>4</td>\n",
       "      <td>6.0</td>\n",
       "      <td>XXXXX</td>\n",
       "      <td>C01</td>\n",
       "      <td>F</td>\n",
       "      <td>2015-10-01</td>\n",
       "      <td>NaN</td>\n",
       "      <td>CA1</td>\n",
       "      <td>...</td>\n",
       "      <td>5.250000</td>\n",
       "      <td>5.0</td>\n",
       "      <td>7.0</td>\n",
       "      <td>4.0</td>\n",
       "      <td>1.0</td>\n",
       "      <td>2019-04-30</td>\n",
       "      <td>42.0</td>\n",
       "      <td>NaN</td>\n",
       "      <td>33</td>\n",
       "      <td>2018-07-01</td>\n",
       "    </tr>\n",
       "    <tr>\n",
       "      <th>2</th>\n",
       "      <td>201808</td>\n",
       "      <td>OA436769</td>\n",
       "      <td>7</td>\n",
       "      <td>NaN</td>\n",
       "      <td>XXXX</td>\n",
       "      <td>C03</td>\n",
       "      <td>M</td>\n",
       "      <td>2018-08-03</td>\n",
       "      <td>NaN</td>\n",
       "      <td>CA1</td>\n",
       "      <td>...</td>\n",
       "      <td>7.000000</td>\n",
       "      <td>7.0</td>\n",
       "      <td>9.0</td>\n",
       "      <td>4.0</td>\n",
       "      <td>1.0</td>\n",
       "      <td>2019-04-30</td>\n",
       "      <td>8.0</td>\n",
       "      <td>NaN</td>\n",
       "      <td>0</td>\n",
       "      <td>2018-08-01</td>\n",
       "    </tr>\n",
       "    <tr>\n",
       "      <th>3</th>\n",
       "      <td>201901</td>\n",
       "      <td>HI778223</td>\n",
       "      <td>3</td>\n",
       "      <td>6.0</td>\n",
       "      <td>XX</td>\n",
       "      <td>C03</td>\n",
       "      <td>M</td>\n",
       "      <td>2015-07-01</td>\n",
       "      <td>NaN</td>\n",
       "      <td>CA1</td>\n",
       "      <td>...</td>\n",
       "      <td>4.250000</td>\n",
       "      <td>4.5</td>\n",
       "      <td>7.0</td>\n",
       "      <td>2.0</td>\n",
       "      <td>1.0</td>\n",
       "      <td>2019-04-30</td>\n",
       "      <td>45.0</td>\n",
       "      <td>NaN</td>\n",
       "      <td>42</td>\n",
       "      <td>2019-01-01</td>\n",
       "    </tr>\n",
       "    <tr>\n",
       "      <th>4</th>\n",
       "      <td>201811</td>\n",
       "      <td>IK149763</td>\n",
       "      <td>5</td>\n",
       "      <td>3.0</td>\n",
       "      <td>XXXXX</td>\n",
       "      <td>C03</td>\n",
       "      <td>M</td>\n",
       "      <td>2017-09-01</td>\n",
       "      <td>NaN</td>\n",
       "      <td>CA1</td>\n",
       "      <td>...</td>\n",
       "      <td>5.250000</td>\n",
       "      <td>5.0</td>\n",
       "      <td>8.0</td>\n",
       "      <td>2.0</td>\n",
       "      <td>1.0</td>\n",
       "      <td>2019-04-30</td>\n",
       "      <td>19.0</td>\n",
       "      <td>NaN</td>\n",
       "      <td>14</td>\n",
       "      <td>2018-11-01</td>\n",
       "    </tr>\n",
       "  </tbody>\n",
       "</table>\n",
       "<p>5 rows × 24 columns</p>\n",
       "</div>"
      ],
      "text/plain": [
       "       연월 customer_id  count_0  count_1   name class gender start_date  \\\n",
       "0  201903    AS458614        4      4.0    XXX   C01      F 2017-03-01   \n",
       "1  201807    PL343970        4      6.0  XXXXX   C01      F 2015-10-01   \n",
       "2  201808    OA436769        7      NaN   XXXX   C03      M 2018-08-03   \n",
       "3  201901    HI778223        3      6.0     XX   C03      M 2015-07-01   \n",
       "4  201811    IK149763        5      3.0  XXXXX   C03      M 2017-09-01   \n",
       "\n",
       "  end_date campaign_id  ...      mean median   max  min  routine_flg  \\\n",
       "0      NaN         CA1  ...  5.333333    4.5  10.0  3.0          1.0   \n",
       "1      NaN         CA1  ...  5.250000    5.0   7.0  4.0          1.0   \n",
       "2      NaN         CA1  ...  7.000000    7.0   9.0  4.0          1.0   \n",
       "3      NaN         CA1  ...  4.250000    4.5   7.0  2.0          1.0   \n",
       "4      NaN         CA1  ...  5.250000    5.0   8.0  2.0          1.0   \n",
       "\n",
       "    calc_date  membership_period  exit_date  period   now_date  \n",
       "0  2019-04-30               25.0        NaN      24 2019-03-01  \n",
       "1  2019-04-30               42.0        NaN      33 2018-07-01  \n",
       "2  2019-04-30                8.0        NaN       0 2018-08-01  \n",
       "3  2019-04-30               45.0        NaN      42 2019-01-01  \n",
       "4  2019-04-30               19.0        NaN      14 2018-11-01  \n",
       "\n",
       "[5 rows x 24 columns]"
      ]
     },
     "execution_count": 31,
     "metadata": {},
     "output_type": "execute_result"
    }
   ],
   "source": [
    "predict_data.head()"
   ]
  },
  {
   "cell_type": "code",
   "execution_count": 32,
   "id": "103af61a-1857-40ea-9615-4ba3bfe8db07",
   "metadata": {},
   "outputs": [
    {
     "data": {
      "text/plain": [
       "연월                      0\n",
       "customer_id             0\n",
       "count_0                 0\n",
       "count_1               251\n",
       "name                    0\n",
       "class                   0\n",
       "gender                  0\n",
       "start_date              0\n",
       "end_date             2842\n",
       "campaign_id             0\n",
       "is_deleted              0\n",
       "class_name              0\n",
       "price                   0\n",
       "campaign_name           0\n",
       "mean                    0\n",
       "median                  0\n",
       "max                     0\n",
       "min                     0\n",
       "routine_flg             0\n",
       "calc_date               0\n",
       "membership_period       0\n",
       "exit_date            2842\n",
       "period                  0\n",
       "now_date                0\n",
       "dtype: int64"
      ]
     },
     "execution_count": 32,
     "metadata": {},
     "output_type": "execute_result"
    }
   ],
   "source": [
    "predict_data.isna().sum()"
   ]
  },
  {
   "cell_type": "code",
   "execution_count": 33,
   "id": "7dc77e93-393f-48ad-ab8b-9486f49d8fde",
   "metadata": {},
   "outputs": [],
   "source": [
    "predict_data = predict_data.dropna(subset = ['count_1'])"
   ]
  },
  {
   "cell_type": "code",
   "execution_count": 34,
   "id": "2a1bd085-6bde-4670-98ca-7847e25a32b9",
   "metadata": {},
   "outputs": [
    {
     "data": {
      "text/plain": [
       "연월                      0\n",
       "customer_id             0\n",
       "count_0                 0\n",
       "count_1                 0\n",
       "name                    0\n",
       "class                   0\n",
       "gender                  0\n",
       "start_date              0\n",
       "end_date             2643\n",
       "campaign_id             0\n",
       "is_deleted              0\n",
       "class_name              0\n",
       "price                   0\n",
       "campaign_name           0\n",
       "mean                    0\n",
       "median                  0\n",
       "max                     0\n",
       "min                     0\n",
       "routine_flg             0\n",
       "calc_date               0\n",
       "membership_period       0\n",
       "exit_date            2643\n",
       "period                  0\n",
       "now_date                0\n",
       "dtype: int64"
      ]
     },
     "execution_count": 34,
     "metadata": {},
     "output_type": "execute_result"
    }
   ],
   "source": [
    "predict_data.isna().sum()"
   ]
  },
  {
   "cell_type": "markdown",
   "id": "f5bd3c33-ba95-4c4e-b98d-33613324063e",
   "metadata": {},
   "source": [
    "### 문자열 변수를 처리할 수 있게 가공하자"
   ]
  },
  {
   "cell_type": "code",
   "execution_count": 35,
   "id": "7dc2906b-ec4b-4cae-9068-05b68fa8142b",
   "metadata": {},
   "outputs": [],
   "source": [
    "target_col = ['campaign_name','class_name','gender','count_1','routine_flg','period','is_deleted']"
   ]
  },
  {
   "cell_type": "code",
   "execution_count": 36,
   "id": "7a92ed5d-df2e-4d01-8b11-61beb3f25b54",
   "metadata": {},
   "outputs": [],
   "source": [
    "predict_data = predict_data[target_col]"
   ]
  },
  {
   "cell_type": "code",
   "execution_count": 37,
   "id": "37a52cda-476e-498d-900b-dfce04044650",
   "metadata": {},
   "outputs": [
    {
     "data": {
      "text/html": [
       "<div>\n",
       "<style scoped>\n",
       "    .dataframe tbody tr th:only-of-type {\n",
       "        vertical-align: middle;\n",
       "    }\n",
       "\n",
       "    .dataframe tbody tr th {\n",
       "        vertical-align: top;\n",
       "    }\n",
       "\n",
       "    .dataframe thead th {\n",
       "        text-align: right;\n",
       "    }\n",
       "</style>\n",
       "<table border=\"1\" class=\"dataframe\">\n",
       "  <thead>\n",
       "    <tr style=\"text-align: right;\">\n",
       "      <th></th>\n",
       "      <th>campaign_name</th>\n",
       "      <th>class_name</th>\n",
       "      <th>gender</th>\n",
       "      <th>count_1</th>\n",
       "      <th>routine_flg</th>\n",
       "      <th>period</th>\n",
       "      <th>is_deleted</th>\n",
       "    </tr>\n",
       "  </thead>\n",
       "  <tbody>\n",
       "    <tr>\n",
       "      <th>0</th>\n",
       "      <td>2_일반</td>\n",
       "      <td>0_종일</td>\n",
       "      <td>F</td>\n",
       "      <td>4.0</td>\n",
       "      <td>1.0</td>\n",
       "      <td>24</td>\n",
       "      <td>0.0</td>\n",
       "    </tr>\n",
       "    <tr>\n",
       "      <th>1</th>\n",
       "      <td>2_일반</td>\n",
       "      <td>0_종일</td>\n",
       "      <td>F</td>\n",
       "      <td>6.0</td>\n",
       "      <td>1.0</td>\n",
       "      <td>33</td>\n",
       "      <td>0.0</td>\n",
       "    </tr>\n",
       "    <tr>\n",
       "      <th>3</th>\n",
       "      <td>2_일반</td>\n",
       "      <td>2_야간</td>\n",
       "      <td>M</td>\n",
       "      <td>6.0</td>\n",
       "      <td>1.0</td>\n",
       "      <td>42</td>\n",
       "      <td>0.0</td>\n",
       "    </tr>\n",
       "    <tr>\n",
       "      <th>4</th>\n",
       "      <td>2_일반</td>\n",
       "      <td>2_야간</td>\n",
       "      <td>M</td>\n",
       "      <td>3.0</td>\n",
       "      <td>1.0</td>\n",
       "      <td>14</td>\n",
       "      <td>0.0</td>\n",
       "    </tr>\n",
       "    <tr>\n",
       "      <th>5</th>\n",
       "      <td>2_일반</td>\n",
       "      <td>0_종일</td>\n",
       "      <td>F</td>\n",
       "      <td>8.0</td>\n",
       "      <td>1.0</td>\n",
       "      <td>12</td>\n",
       "      <td>0.0</td>\n",
       "    </tr>\n",
       "  </tbody>\n",
       "</table>\n",
       "</div>"
      ],
      "text/plain": [
       "  campaign_name class_name gender  count_1  routine_flg  period  is_deleted\n",
       "0          2_일반       0_종일      F      4.0          1.0      24         0.0\n",
       "1          2_일반       0_종일      F      6.0          1.0      33         0.0\n",
       "3          2_일반       2_야간      M      6.0          1.0      42         0.0\n",
       "4          2_일반       2_야간      M      3.0          1.0      14         0.0\n",
       "5          2_일반       0_종일      F      8.0          1.0      12         0.0"
      ]
     },
     "execution_count": 37,
     "metadata": {},
     "output_type": "execute_result"
    }
   ],
   "source": [
    "predict_data.head()"
   ]
  },
  {
   "cell_type": "markdown",
   "id": "f2c249c0-884d-4f56-9eca-19e5df79fc7c",
   "metadata": {},
   "source": [
    "##### 더미변수 만들기"
   ]
  },
  {
   "cell_type": "code",
   "execution_count": 38,
   "id": "17ea6466-d3ca-4568-8107-f2c85a53a8d8",
   "metadata": {},
   "outputs": [],
   "source": [
    "predict_data = pd.get_dummies(predict_data)"
   ]
  },
  {
   "cell_type": "code",
   "execution_count": 39,
   "id": "310c5eac-c1b1-440a-92f4-27ed42675484",
   "metadata": {},
   "outputs": [
    {
     "data": {
      "text/html": [
       "<div>\n",
       "<style scoped>\n",
       "    .dataframe tbody tr th:only-of-type {\n",
       "        vertical-align: middle;\n",
       "    }\n",
       "\n",
       "    .dataframe tbody tr th {\n",
       "        vertical-align: top;\n",
       "    }\n",
       "\n",
       "    .dataframe thead th {\n",
       "        text-align: right;\n",
       "    }\n",
       "</style>\n",
       "<table border=\"1\" class=\"dataframe\">\n",
       "  <thead>\n",
       "    <tr style=\"text-align: right;\">\n",
       "      <th></th>\n",
       "      <th>count_1</th>\n",
       "      <th>routine_flg</th>\n",
       "      <th>period</th>\n",
       "      <th>is_deleted</th>\n",
       "      <th>campaign_name_0_입회비반액할인</th>\n",
       "      <th>campaign_name_1_입회비무료</th>\n",
       "      <th>campaign_name_2_일반</th>\n",
       "      <th>class_name_0_종일</th>\n",
       "      <th>class_name_1_주간</th>\n",
       "      <th>class_name_2_야간</th>\n",
       "      <th>gender_F</th>\n",
       "      <th>gender_M</th>\n",
       "    </tr>\n",
       "  </thead>\n",
       "  <tbody>\n",
       "    <tr>\n",
       "      <th>0</th>\n",
       "      <td>4.0</td>\n",
       "      <td>1.0</td>\n",
       "      <td>24</td>\n",
       "      <td>0.0</td>\n",
       "      <td>0</td>\n",
       "      <td>0</td>\n",
       "      <td>1</td>\n",
       "      <td>1</td>\n",
       "      <td>0</td>\n",
       "      <td>0</td>\n",
       "      <td>1</td>\n",
       "      <td>0</td>\n",
       "    </tr>\n",
       "    <tr>\n",
       "      <th>1</th>\n",
       "      <td>6.0</td>\n",
       "      <td>1.0</td>\n",
       "      <td>33</td>\n",
       "      <td>0.0</td>\n",
       "      <td>0</td>\n",
       "      <td>0</td>\n",
       "      <td>1</td>\n",
       "      <td>1</td>\n",
       "      <td>0</td>\n",
       "      <td>0</td>\n",
       "      <td>1</td>\n",
       "      <td>0</td>\n",
       "    </tr>\n",
       "    <tr>\n",
       "      <th>3</th>\n",
       "      <td>6.0</td>\n",
       "      <td>1.0</td>\n",
       "      <td>42</td>\n",
       "      <td>0.0</td>\n",
       "      <td>0</td>\n",
       "      <td>0</td>\n",
       "      <td>1</td>\n",
       "      <td>0</td>\n",
       "      <td>0</td>\n",
       "      <td>1</td>\n",
       "      <td>0</td>\n",
       "      <td>1</td>\n",
       "    </tr>\n",
       "    <tr>\n",
       "      <th>4</th>\n",
       "      <td>3.0</td>\n",
       "      <td>1.0</td>\n",
       "      <td>14</td>\n",
       "      <td>0.0</td>\n",
       "      <td>0</td>\n",
       "      <td>0</td>\n",
       "      <td>1</td>\n",
       "      <td>0</td>\n",
       "      <td>0</td>\n",
       "      <td>1</td>\n",
       "      <td>0</td>\n",
       "      <td>1</td>\n",
       "    </tr>\n",
       "    <tr>\n",
       "      <th>5</th>\n",
       "      <td>8.0</td>\n",
       "      <td>1.0</td>\n",
       "      <td>12</td>\n",
       "      <td>0.0</td>\n",
       "      <td>0</td>\n",
       "      <td>0</td>\n",
       "      <td>1</td>\n",
       "      <td>1</td>\n",
       "      <td>0</td>\n",
       "      <td>0</td>\n",
       "      <td>1</td>\n",
       "      <td>0</td>\n",
       "    </tr>\n",
       "  </tbody>\n",
       "</table>\n",
       "</div>"
      ],
      "text/plain": [
       "   count_1  routine_flg  period  is_deleted  campaign_name_0_입회비반액할인  \\\n",
       "0      4.0          1.0      24         0.0                        0   \n",
       "1      6.0          1.0      33         0.0                        0   \n",
       "3      6.0          1.0      42         0.0                        0   \n",
       "4      3.0          1.0      14         0.0                        0   \n",
       "5      8.0          1.0      12         0.0                        0   \n",
       "\n",
       "   campaign_name_1_입회비무료  campaign_name_2_일반  class_name_0_종일  \\\n",
       "0                      0                   1                1   \n",
       "1                      0                   1                1   \n",
       "3                      0                   1                0   \n",
       "4                      0                   1                0   \n",
       "5                      0                   1                1   \n",
       "\n",
       "   class_name_1_주간  class_name_2_야간  gender_F  gender_M  \n",
       "0                0                0         1         0  \n",
       "1                0                0         1         0  \n",
       "3                0                1         0         1  \n",
       "4                0                1         0         1  \n",
       "5                0                0         1         0  "
      ]
     },
     "execution_count": 39,
     "metadata": {},
     "output_type": "execute_result"
    }
   ],
   "source": [
    "predict_data.head()"
   ]
  },
  {
   "cell_type": "code",
   "execution_count": 40,
   "id": "eda28d1b-be7d-4d65-8c8b-05f4180c226b",
   "metadata": {},
   "outputs": [],
   "source": [
    "del predict_data['campaign_name_2_일반']"
   ]
  },
  {
   "cell_type": "code",
   "execution_count": 41,
   "id": "32e170ce-8dac-4f41-88a4-42ee027193e4",
   "metadata": {},
   "outputs": [],
   "source": [
    "del predict_data['class_name_2_야간']"
   ]
  },
  {
   "cell_type": "code",
   "execution_count": 42,
   "id": "204f0aa7-d0c6-473c-92bd-8c2ec5c195b9",
   "metadata": {},
   "outputs": [],
   "source": [
    "del predict_data['gender_M']"
   ]
  },
  {
   "cell_type": "code",
   "execution_count": 43,
   "id": "2c0b1bee-6ad3-43f1-86f6-1ed023769095",
   "metadata": {},
   "outputs": [
    {
     "data": {
      "text/html": [
       "<div>\n",
       "<style scoped>\n",
       "    .dataframe tbody tr th:only-of-type {\n",
       "        vertical-align: middle;\n",
       "    }\n",
       "\n",
       "    .dataframe tbody tr th {\n",
       "        vertical-align: top;\n",
       "    }\n",
       "\n",
       "    .dataframe thead th {\n",
       "        text-align: right;\n",
       "    }\n",
       "</style>\n",
       "<table border=\"1\" class=\"dataframe\">\n",
       "  <thead>\n",
       "    <tr style=\"text-align: right;\">\n",
       "      <th></th>\n",
       "      <th>count_1</th>\n",
       "      <th>routine_flg</th>\n",
       "      <th>period</th>\n",
       "      <th>is_deleted</th>\n",
       "      <th>campaign_name_0_입회비반액할인</th>\n",
       "      <th>campaign_name_1_입회비무료</th>\n",
       "      <th>class_name_0_종일</th>\n",
       "      <th>class_name_1_주간</th>\n",
       "      <th>gender_F</th>\n",
       "    </tr>\n",
       "  </thead>\n",
       "  <tbody>\n",
       "    <tr>\n",
       "      <th>0</th>\n",
       "      <td>4.0</td>\n",
       "      <td>1.0</td>\n",
       "      <td>24</td>\n",
       "      <td>0.0</td>\n",
       "      <td>0</td>\n",
       "      <td>0</td>\n",
       "      <td>1</td>\n",
       "      <td>0</td>\n",
       "      <td>1</td>\n",
       "    </tr>\n",
       "    <tr>\n",
       "      <th>1</th>\n",
       "      <td>6.0</td>\n",
       "      <td>1.0</td>\n",
       "      <td>33</td>\n",
       "      <td>0.0</td>\n",
       "      <td>0</td>\n",
       "      <td>0</td>\n",
       "      <td>1</td>\n",
       "      <td>0</td>\n",
       "      <td>1</td>\n",
       "    </tr>\n",
       "    <tr>\n",
       "      <th>3</th>\n",
       "      <td>6.0</td>\n",
       "      <td>1.0</td>\n",
       "      <td>42</td>\n",
       "      <td>0.0</td>\n",
       "      <td>0</td>\n",
       "      <td>0</td>\n",
       "      <td>0</td>\n",
       "      <td>0</td>\n",
       "      <td>0</td>\n",
       "    </tr>\n",
       "    <tr>\n",
       "      <th>4</th>\n",
       "      <td>3.0</td>\n",
       "      <td>1.0</td>\n",
       "      <td>14</td>\n",
       "      <td>0.0</td>\n",
       "      <td>0</td>\n",
       "      <td>0</td>\n",
       "      <td>0</td>\n",
       "      <td>0</td>\n",
       "      <td>0</td>\n",
       "    </tr>\n",
       "    <tr>\n",
       "      <th>5</th>\n",
       "      <td>8.0</td>\n",
       "      <td>1.0</td>\n",
       "      <td>12</td>\n",
       "      <td>0.0</td>\n",
       "      <td>0</td>\n",
       "      <td>0</td>\n",
       "      <td>1</td>\n",
       "      <td>0</td>\n",
       "      <td>1</td>\n",
       "    </tr>\n",
       "  </tbody>\n",
       "</table>\n",
       "</div>"
      ],
      "text/plain": [
       "   count_1  routine_flg  period  is_deleted  campaign_name_0_입회비반액할인  \\\n",
       "0      4.0          1.0      24         0.0                        0   \n",
       "1      6.0          1.0      33         0.0                        0   \n",
       "3      6.0          1.0      42         0.0                        0   \n",
       "4      3.0          1.0      14         0.0                        0   \n",
       "5      8.0          1.0      12         0.0                        0   \n",
       "\n",
       "   campaign_name_1_입회비무료  class_name_0_종일  class_name_1_주간  gender_F  \n",
       "0                      0                1                0         1  \n",
       "1                      0                1                0         1  \n",
       "3                      0                0                0         0  \n",
       "4                      0                0                0         0  \n",
       "5                      0                1                0         1  "
      ]
     },
     "execution_count": 43,
     "metadata": {},
     "output_type": "execute_result"
    }
   ],
   "source": [
    "predict_data.head()"
   ]
  },
  {
   "cell_type": "markdown",
   "id": "b7697f30-7e92-4edc-8966-5d33cf72c045",
   "metadata": {},
   "source": [
    "### 의사결정 트리를 사용해서 탈퇴 예측 모델을 구축하자"
   ]
  },
  {
   "cell_type": "code",
   "execution_count": 44,
   "id": "5d748b6f-cd4e-487f-aa03-741496af3c2e",
   "metadata": {},
   "outputs": [],
   "source": [
    "from sklearn.tree import DecisionTreeClassifier\n",
    "import sklearn.model_selection"
   ]
  },
  {
   "cell_type": "code",
   "execution_count": 45,
   "id": "f641be43-3f40-44b1-875b-7a9a6333e8c7",
   "metadata": {},
   "outputs": [],
   "source": [
    "exi = predict_data.loc[predict_data['is_deleted']==1]"
   ]
  },
  {
   "cell_type": "code",
   "execution_count": 46,
   "id": "9a4df3ed-0bd7-4d58-a4d4-b6fcc990a705",
   "metadata": {},
   "outputs": [],
   "source": [
    "conti = predict_data.loc[predict_data['is_deleted']==0].sample(len(exi))"
   ]
  },
  {
   "cell_type": "code",
   "execution_count": 47,
   "id": "ad8f17fd-2130-4c90-8ece-4e33290befcc",
   "metadata": {},
   "outputs": [],
   "source": [
    "X = pd.concat([exi,conti],ignore_index = True )"
   ]
  },
  {
   "cell_type": "code",
   "execution_count": 48,
   "id": "90368913-44ce-4463-83e4-4dc7465ea3be",
   "metadata": {},
   "outputs": [],
   "source": [
    "y = X['is_deleted']"
   ]
  },
  {
   "cell_type": "code",
   "execution_count": 49,
   "id": "41942ea1-50cf-420e-87a8-b9b3372b07cf",
   "metadata": {},
   "outputs": [],
   "source": [
    "del X['is_deleted']"
   ]
  },
  {
   "cell_type": "code",
   "execution_count": 50,
   "id": "5264854d-19c0-432a-8207-f80c2228e4d4",
   "metadata": {},
   "outputs": [],
   "source": [
    "X_train, X_test, y_train, y_test = sklearn.model_selection.train_test_split(X,y)"
   ]
  },
  {
   "cell_type": "code",
   "execution_count": null,
   "id": "b48b9d50-c66b-40cc-a81e-41fa3d6deb5a",
   "metadata": {},
   "outputs": [],
   "source": []
  },
  {
   "cell_type": "code",
   "execution_count": 51,
   "id": "321cfc4b-ff1b-4aa8-bd25-57de2ad805a6",
   "metadata": {},
   "outputs": [],
   "source": [
    "model = DecisionTreeClassifier(random_state=0)"
   ]
  },
  {
   "cell_type": "code",
   "execution_count": 52,
   "id": "7bbcc37a-8267-4415-81c7-c3a3b8321062",
   "metadata": {},
   "outputs": [
    {
     "data": {
      "text/plain": [
       "DecisionTreeClassifier(random_state=0)"
      ]
     },
     "execution_count": 52,
     "metadata": {},
     "output_type": "execute_result"
    }
   ],
   "source": [
    "model.fit(X_train,y_train)"
   ]
  },
  {
   "cell_type": "code",
   "execution_count": 53,
   "id": "724652b8-3b67-4b10-9c81-8c83613ed972",
   "metadata": {},
   "outputs": [],
   "source": [
    "y_test_pred = model.predict(X_test)"
   ]
  },
  {
   "cell_type": "code",
   "execution_count": 54,
   "id": "5ca7b559-8880-4a99-b82b-aa88d045d121",
   "metadata": {},
   "outputs": [
    {
     "name": "stdout",
     "output_type": "stream",
     "text": [
      "[0. 0. 0. 0. 1. 0. 1. 1. 1. 0. 0. 0. 1. 1. 1. 0. 0. 0. 0. 1. 0. 1. 0. 1.\n",
      " 1. 1. 0. 1. 1. 0. 0. 0. 1. 1. 0. 0. 1. 1. 0. 1. 0. 0. 1. 0. 1. 1. 1. 1.\n",
      " 0. 0. 0. 0. 0. 1. 1. 0. 0. 0. 0. 0. 1. 1. 1. 1. 1. 0. 0. 0. 0. 1. 1. 1.\n",
      " 1. 1. 1. 1. 0. 0. 1. 0. 1. 0. 0. 1. 1. 1. 1. 0. 0. 1. 0. 0. 1. 1. 0. 1.\n",
      " 1. 1. 1. 1. 1. 0. 0. 0. 0. 0. 0. 0. 1. 1. 1. 0. 1. 0. 0. 1. 1. 1. 0. 0.\n",
      " 1. 0. 1. 1. 0. 1. 1. 1. 0. 0. 1. 0. 0. 1. 0. 0. 1. 0. 0. 1. 0. 1. 1. 0.\n",
      " 1. 0. 0. 0. 1. 1. 0. 0. 1. 1. 0. 0. 1. 0. 0. 0. 1. 0. 0. 1. 1. 0. 0. 1.\n",
      " 0. 1. 0. 1. 0. 0. 1. 0. 0. 0. 0. 0. 0. 1. 1. 0. 1. 0. 0. 0. 0. 0. 0. 1.\n",
      " 0. 0. 1. 0. 0. 1. 0. 1. 0. 1. 0. 0. 0. 0. 0. 1. 0. 0. 0. 0. 1. 1. 1. 0.\n",
      " 0. 1. 0. 0. 0. 0. 0. 0. 0. 0. 1. 0. 0. 0. 1. 1. 1. 0. 1. 1. 0. 1. 1. 1.\n",
      " 1. 1. 0. 0. 1. 0. 0. 1. 0. 0. 0. 1. 1. 1. 0. 1. 1. 0. 1. 1. 0. 0. 1. 1.\n",
      " 1. 0. 1. 1. 1. 1. 0. 0. 0. 1. 0. 1. 0. 0. 0. 0. 1. 0. 0. 0. 0. 1. 1. 0.\n",
      " 0. 0. 0. 1. 0. 0. 0. 1. 1. 0. 0. 0. 1. 0. 0. 0. 1. 0. 1. 1. 1. 0. 1. 0.\n",
      " 0. 1. 1. 0. 1. 0. 0. 0. 0. 0. 0. 1. 0. 0. 1. 0. 0. 1. 1. 1. 1. 1. 1. 1.\n",
      " 1. 0. 1. 1. 1. 0. 1. 1. 0. 1. 0. 1. 0. 1. 0. 0. 0. 0. 1. 1. 0. 0. 1. 1.\n",
      " 1. 1. 0. 1. 0. 0. 1. 0. 0. 0. 0. 0. 0. 0. 0. 0. 0. 0. 1. 0. 0. 1. 0. 0.\n",
      " 1. 0. 0. 1. 0. 1. 0. 1. 0. 0. 0. 1. 1. 1. 0. 0. 0. 0. 0. 0. 0. 0. 0. 1.\n",
      " 0. 0. 0. 1. 1. 1. 1. 1. 1. 1. 1. 0. 1. 1. 1. 1. 1. 0. 1. 1. 1. 1. 1. 0.\n",
      " 0. 1. 0. 1. 0. 0. 1. 1. 0. 1. 0. 0. 0. 1. 1. 1. 1. 0. 0. 1. 1. 1. 1. 0.\n",
      " 1. 1. 1. 1. 0. 1. 1. 1. 0. 0. 1. 0. 1. 1. 0. 1. 0. 1. 1. 0. 1. 0. 1. 0.\n",
      " 1. 1. 0. 0. 1. 1. 0. 0. 0. 0. 1. 0. 0. 0. 0. 0. 0. 0. 0. 1. 0. 1. 0. 0.\n",
      " 1. 0. 0. 1. 1. 1. 0. 1. 1. 1. 0. 0. 0. 1. 0. 0. 0. 0. 0. 1. 0. 0.]\n"
     ]
    }
   ],
   "source": [
    "print(y_test_pred)"
   ]
  },
  {
   "cell_type": "code",
   "execution_count": 55,
   "id": "c27a603c-cf7d-425f-8052-441098f7ddbf",
   "metadata": {},
   "outputs": [],
   "source": [
    "results_test = pd.DataFrame({'y_test' : y_test,\n",
    "                             'y_pred' : y_test_pred})"
   ]
  },
  {
   "cell_type": "code",
   "execution_count": 56,
   "id": "d8bb01a6-1df3-44f8-ab6d-d4ea83b3b131",
   "metadata": {},
   "outputs": [
    {
     "data": {
      "text/html": [
       "<div>\n",
       "<style scoped>\n",
       "    .dataframe tbody tr th:only-of-type {\n",
       "        vertical-align: middle;\n",
       "    }\n",
       "\n",
       "    .dataframe tbody tr th {\n",
       "        vertical-align: top;\n",
       "    }\n",
       "\n",
       "    .dataframe thead th {\n",
       "        text-align: right;\n",
       "    }\n",
       "</style>\n",
       "<table border=\"1\" class=\"dataframe\">\n",
       "  <thead>\n",
       "    <tr style=\"text-align: right;\">\n",
       "      <th></th>\n",
       "      <th>y_test</th>\n",
       "      <th>y_pred</th>\n",
       "    </tr>\n",
       "  </thead>\n",
       "  <tbody>\n",
       "    <tr>\n",
       "      <th>1733</th>\n",
       "      <td>0.0</td>\n",
       "      <td>0.0</td>\n",
       "    </tr>\n",
       "    <tr>\n",
       "      <th>1746</th>\n",
       "      <td>0.0</td>\n",
       "      <td>0.0</td>\n",
       "    </tr>\n",
       "    <tr>\n",
       "      <th>1776</th>\n",
       "      <td>0.0</td>\n",
       "      <td>0.0</td>\n",
       "    </tr>\n",
       "    <tr>\n",
       "      <th>1510</th>\n",
       "      <td>0.0</td>\n",
       "      <td>0.0</td>\n",
       "    </tr>\n",
       "    <tr>\n",
       "      <th>256</th>\n",
       "      <td>1.0</td>\n",
       "      <td>1.0</td>\n",
       "    </tr>\n",
       "    <tr>\n",
       "      <th>...</th>\n",
       "      <td>...</td>\n",
       "      <td>...</td>\n",
       "    </tr>\n",
       "    <tr>\n",
       "      <th>1888</th>\n",
       "      <td>0.0</td>\n",
       "      <td>0.0</td>\n",
       "    </tr>\n",
       "    <tr>\n",
       "      <th>2011</th>\n",
       "      <td>0.0</td>\n",
       "      <td>0.0</td>\n",
       "    </tr>\n",
       "    <tr>\n",
       "      <th>1050</th>\n",
       "      <td>1.0</td>\n",
       "      <td>1.0</td>\n",
       "    </tr>\n",
       "    <tr>\n",
       "      <th>1686</th>\n",
       "      <td>0.0</td>\n",
       "      <td>0.0</td>\n",
       "    </tr>\n",
       "    <tr>\n",
       "      <th>1112</th>\n",
       "      <td>0.0</td>\n",
       "      <td>0.0</td>\n",
       "    </tr>\n",
       "  </tbody>\n",
       "</table>\n",
       "<p>526 rows × 2 columns</p>\n",
       "</div>"
      ],
      "text/plain": [
       "      y_test  y_pred\n",
       "1733     0.0     0.0\n",
       "1746     0.0     0.0\n",
       "1776     0.0     0.0\n",
       "1510     0.0     0.0\n",
       "256      1.0     1.0\n",
       "...      ...     ...\n",
       "1888     0.0     0.0\n",
       "2011     0.0     0.0\n",
       "1050     1.0     1.0\n",
       "1686     0.0     0.0\n",
       "1112     0.0     0.0\n",
       "\n",
       "[526 rows x 2 columns]"
      ]
     },
     "execution_count": 56,
     "metadata": {},
     "output_type": "execute_result"
    }
   ],
   "source": [
    "results_test"
   ]
  },
  {
   "cell_type": "code",
   "execution_count": 57,
   "id": "234e4717-74fe-4ade-84e0-ac12beafcb87",
   "metadata": {},
   "outputs": [],
   "source": [
    "correct = len(results_test.loc[results_test['y_test'] == results_test['y_pred']])"
   ]
  },
  {
   "cell_type": "code",
   "execution_count": 58,
   "id": "ceb21b89-18e9-4f55-8d96-5d9f0c03787e",
   "metadata": {},
   "outputs": [],
   "source": [
    "data_count = len(results_test)"
   ]
  },
  {
   "cell_type": "code",
   "execution_count": 59,
   "id": "71ec8cfc-be1d-4995-ac6a-0f7b43571848",
   "metadata": {},
   "outputs": [],
   "source": [
    "score_test = correct/data_count"
   ]
  },
  {
   "cell_type": "code",
   "execution_count": 60,
   "id": "7212dfca-f409-4422-be94-ad1ece092a82",
   "metadata": {},
   "outputs": [
    {
     "data": {
      "text/plain": [
       "0.8859315589353612"
      ]
     },
     "execution_count": 60,
     "metadata": {},
     "output_type": "execute_result"
    }
   ],
   "source": [
    "score_test"
   ]
  },
  {
   "cell_type": "code",
   "execution_count": 61,
   "id": "7572fc81-3872-4918-bab5-18868de95c38",
   "metadata": {},
   "outputs": [
    {
     "data": {
      "text/plain": [
       "0.8859315589353612"
      ]
     },
     "execution_count": 61,
     "metadata": {},
     "output_type": "execute_result"
    }
   ],
   "source": [
    "model.score(X_test,y_test)"
   ]
  },
  {
   "cell_type": "code",
   "execution_count": 62,
   "id": "614545ba-32d7-4c92-a0e8-c7f3777dfdd3",
   "metadata": {},
   "outputs": [
    {
     "data": {
      "text/plain": [
       "0.9778200253485425"
      ]
     },
     "execution_count": 62,
     "metadata": {},
     "output_type": "execute_result"
    }
   ],
   "source": [
    "model.score(X_train,y_train)"
   ]
  },
  {
   "cell_type": "code",
   "execution_count": 63,
   "id": "dd65f4e3-96b8-4b44-ab45-b58756b5c6c9",
   "metadata": {},
   "outputs": [],
   "source": [
    "X = pd.concat([exi,conti],ignore_index = True)"
   ]
  },
  {
   "cell_type": "code",
   "execution_count": 64,
   "id": "e8e092c5-ca16-41a1-b39b-93d803bc8b58",
   "metadata": {},
   "outputs": [],
   "source": [
    "y=X['is_deleted']"
   ]
  },
  {
   "cell_type": "code",
   "execution_count": 65,
   "id": "c161085c-ef43-4e6e-95da-f823a1245a92",
   "metadata": {},
   "outputs": [],
   "source": [
    "del X['is_deleted']"
   ]
  },
  {
   "cell_type": "code",
   "execution_count": 66,
   "id": "40a987bf-3d9b-4991-a86b-794539990409",
   "metadata": {},
   "outputs": [],
   "source": [
    "X_train, X_test , y_train,y_test = sklearn.model_selection.train_test_split(X,y)"
   ]
  },
  {
   "cell_type": "code",
   "execution_count": 67,
   "id": "f871f404-c296-43f3-b6a5-59f3cac2f8b0",
   "metadata": {},
   "outputs": [],
   "source": [
    "model = DecisionTreeClassifier(random_state = 0 , max_depth = 5)"
   ]
  },
  {
   "cell_type": "code",
   "execution_count": 68,
   "id": "b01ebdf1-db0a-45ba-9aa6-9fb71e3697ad",
   "metadata": {},
   "outputs": [
    {
     "data": {
      "text/plain": [
       "DecisionTreeClassifier(max_depth=5, random_state=0)"
      ]
     },
     "execution_count": 68,
     "metadata": {},
     "output_type": "execute_result"
    }
   ],
   "source": [
    "model.fit(X_train,y_train)"
   ]
  },
  {
   "cell_type": "code",
   "execution_count": 69,
   "id": "26377630-b9c5-4bb4-951f-6c3b2e820ef6",
   "metadata": {},
   "outputs": [
    {
     "data": {
      "text/plain": [
       "0.9201520912547528"
      ]
     },
     "execution_count": 69,
     "metadata": {},
     "output_type": "execute_result"
    }
   ],
   "source": [
    "model.score(X_test,y_test)"
   ]
  },
  {
   "cell_type": "code",
   "execution_count": 70,
   "id": "32a45d7e-a54d-469e-bb3e-6d1a369b3cc7",
   "metadata": {},
   "outputs": [
    {
     "data": {
      "text/plain": [
       "0.9296577946768061"
      ]
     },
     "execution_count": 70,
     "metadata": {},
     "output_type": "execute_result"
    }
   ],
   "source": [
    "model.score(X_train,y_train)"
   ]
  },
  {
   "cell_type": "code",
   "execution_count": 71,
   "id": "0e54436b-c47c-4471-919e-57b72b1f8107",
   "metadata": {},
   "outputs": [],
   "source": [
    "importance = pd.DataFrame({'feature_names' : X.columns, \n",
    "                           'coefficient' : model.feature_importances_})"
   ]
  },
  {
   "cell_type": "code",
   "execution_count": 72,
   "id": "90586d8a-a920-4b25-b822-be4ae46abc35",
   "metadata": {},
   "outputs": [
    {
     "data": {
      "text/html": [
       "<div>\n",
       "<style scoped>\n",
       "    .dataframe tbody tr th:only-of-type {\n",
       "        vertical-align: middle;\n",
       "    }\n",
       "\n",
       "    .dataframe tbody tr th {\n",
       "        vertical-align: top;\n",
       "    }\n",
       "\n",
       "    .dataframe thead th {\n",
       "        text-align: right;\n",
       "    }\n",
       "</style>\n",
       "<table border=\"1\" class=\"dataframe\">\n",
       "  <thead>\n",
       "    <tr style=\"text-align: right;\">\n",
       "      <th></th>\n",
       "      <th>feature_names</th>\n",
       "      <th>coefficient</th>\n",
       "    </tr>\n",
       "  </thead>\n",
       "  <tbody>\n",
       "    <tr>\n",
       "      <th>0</th>\n",
       "      <td>count_1</td>\n",
       "      <td>0.325727</td>\n",
       "    </tr>\n",
       "    <tr>\n",
       "      <th>1</th>\n",
       "      <td>routine_flg</td>\n",
       "      <td>0.148567</td>\n",
       "    </tr>\n",
       "    <tr>\n",
       "      <th>2</th>\n",
       "      <td>period</td>\n",
       "      <td>0.525486</td>\n",
       "    </tr>\n",
       "    <tr>\n",
       "      <th>3</th>\n",
       "      <td>campaign_name_0_입회비반액할인</td>\n",
       "      <td>0.000000</td>\n",
       "    </tr>\n",
       "    <tr>\n",
       "      <th>4</th>\n",
       "      <td>campaign_name_1_입회비무료</td>\n",
       "      <td>0.000220</td>\n",
       "    </tr>\n",
       "    <tr>\n",
       "      <th>5</th>\n",
       "      <td>class_name_0_종일</td>\n",
       "      <td>0.000000</td>\n",
       "    </tr>\n",
       "    <tr>\n",
       "      <th>6</th>\n",
       "      <td>class_name_1_주간</td>\n",
       "      <td>0.000000</td>\n",
       "    </tr>\n",
       "    <tr>\n",
       "      <th>7</th>\n",
       "      <td>gender_F</td>\n",
       "      <td>0.000000</td>\n",
       "    </tr>\n",
       "  </tbody>\n",
       "</table>\n",
       "</div>"
      ],
      "text/plain": [
       "             feature_names  coefficient\n",
       "0                  count_1     0.325727\n",
       "1              routine_flg     0.148567\n",
       "2                   period     0.525486\n",
       "3  campaign_name_0_입회비반액할인     0.000000\n",
       "4    campaign_name_1_입회비무료     0.000220\n",
       "5          class_name_0_종일     0.000000\n",
       "6          class_name_1_주간     0.000000\n",
       "7                 gender_F     0.000000"
      ]
     },
     "execution_count": 72,
     "metadata": {},
     "output_type": "execute_result"
    }
   ],
   "source": [
    "importance"
   ]
  },
  {
   "cell_type": "markdown",
   "id": "9ee2fba1-2fd1-4b26-ba14-656c6c7999fc",
   "metadata": {},
   "source": [
    "### 회원탈퇴를 예측하자"
   ]
  },
  {
   "cell_type": "code",
   "execution_count": 74,
   "id": "586d923b-294b-4449-aaea-2144ee56ba08",
   "metadata": {},
   "outputs": [],
   "source": [
    "count_1 = 3\n",
    "routine_flg = 1\n",
    "period = 10\n",
    "campaign_name = '입회비무료'\n",
    "class_name = '종일'\n",
    "gender = 'M'"
   ]
  },
  {
   "cell_type": "code",
   "execution_count": 76,
   "id": "8c73fc3b-41b6-43c4-9c88-e672eb61cdba",
   "metadata": {},
   "outputs": [],
   "source": [
    "if campaign_name == '입회비반값할인':\n",
    "    campaign_name_list = [1,0]\n",
    "elif campaign_name == '입회비무료' :\n",
    "    campaign_name_list = [0,1]\n",
    "elif campaign_name == '일반' :\n",
    "    campaign_name_list = [0,0]\n",
    "if class_name == '종일' :\n",
    "    class_name_list = [1,0]\n",
    "elif class_name == '주간':\n",
    "    class_name_list = [0,1]\n",
    "elif class_name == '야간' :\n",
    "    class_name_list = [0,0]\n",
    "if gender == 'F' :\n",
    "    gender_list = [1]\n",
    "elif gender == 'M' :\n",
    "    gender_list = [0]\n",
    "input_data = [count_1,routine_flg,period]\n",
    "input_data.extend(campaign_name_list)\n",
    "input_data.extend(class_name_list)\n",
    "input_data.extend(gender_list)"
   ]
  },
  {
   "cell_type": "code",
   "execution_count": 77,
   "id": "a0700441-6003-414d-a133-ee511f38f319",
   "metadata": {},
   "outputs": [
    {
     "name": "stderr",
     "output_type": "stream",
     "text": [
      "C:\\Users\\82105\\anaconda3\\lib\\site-packages\\sklearn\\base.py:450: UserWarning: X does not have valid feature names, but DecisionTreeClassifier was fitted with feature names\n",
      "  warnings.warn(\n"
     ]
    },
    {
     "data": {
      "text/plain": [
       "array([1.])"
      ]
     },
     "execution_count": 77,
     "metadata": {},
     "output_type": "execute_result"
    }
   ],
   "source": [
    "model.predict([input_data])"
   ]
  },
  {
   "cell_type": "code",
   "execution_count": 78,
   "id": "0b80486a-348c-4c93-9197-4acc4e1fd045",
   "metadata": {},
   "outputs": [
    {
     "name": "stderr",
     "output_type": "stream",
     "text": [
      "C:\\Users\\82105\\anaconda3\\lib\\site-packages\\sklearn\\base.py:450: UserWarning: X does not have valid feature names, but DecisionTreeClassifier was fitted with feature names\n",
      "  warnings.warn(\n"
     ]
    },
    {
     "data": {
      "text/plain": [
       "array([[0.1, 0.9]])"
      ]
     },
     "execution_count": 78,
     "metadata": {},
     "output_type": "execute_result"
    }
   ],
   "source": [
    "model.predict_proba([input_data])"
   ]
  },
  {
   "cell_type": "code",
   "execution_count": null,
   "id": "07afee79-d869-405d-b96f-58be9f067523",
   "metadata": {},
   "outputs": [],
   "source": []
  }
 ],
 "metadata": {
  "kernelspec": {
   "display_name": "Python 3 (ipykernel)",
   "language": "python",
   "name": "python3"
  },
  "language_info": {
   "codemirror_mode": {
    "name": "ipython",
    "version": 3
   },
   "file_extension": ".py",
   "mimetype": "text/x-python",
   "name": "python",
   "nbconvert_exporter": "python",
   "pygments_lexer": "ipython3",
   "version": "3.9.12"
  }
 },
 "nbformat": 4,
 "nbformat_minor": 5
}
